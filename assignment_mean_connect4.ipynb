{
 "cells": [
  {
   "cell_type": "markdown",
   "metadata": {},
   "source": [
    "# Adversarial Search: Playing \"Mean\" Connect 4 - Troy McNitt\n",
    "\n",
    "\n",
    "## Instructions\n",
    "\n",
    "Total Points: Undegraduates 10, graduate students 11\n",
    "\n",
    "Complete this notebook and submit it. The notebook needs to be a complete project report with your implementation, documentation including a short discussion of how your implementation works and your design choices, and experimental results (e.g., tables and charts with simulation results) with a short discussion of what they mean. Use the provided notebook cells and insert additional code and markdown cells as needed.\n",
    "\n",
    "## Introduction\n",
    "\n",
    "You will implement different versions of agents that play \"Mean\" Connect 4:\n",
    "\n",
    "> \"Connect 4 is a two-player connection board game, in which the players choose a color and then take turns dropping colored discs into a seven-column, six-row vertically suspended grid. The pieces fall straight down, occupying the lowest available space within the column. The objective of the game is to be the first to form a horizontal, vertical, or diagonal line of four of one's own discs.\" (see [Connect Four on Wikipedia](https://en.wikipedia.org/wiki/Connect_Four))\n",
    "\n",
    "> **The mean part:** This game has an additional rule. Every time it is a player's turn, the player can decide to instead of playing a new disk, take a bottom row disk of the opponent and place it in any column. All disks above the removed disk will fall down one position. Note that a player can only move an _opponent's disc_ that is in the _bottom row_ of the board.\n",
    "\n",
    "Note that normal [Connect-4 has been solved](https://en.wikipedia.org/wiki/Connect_Four#Mathematical_solution)\n",
    "in 1988. A connect-4 solver with a discussion of how to solve different parts of the problem can be found here: https://connect4.gamesolver.org/en/"
   ]
  },
  {
   "cell_type": "markdown",
   "metadata": {},
   "source": [
    "## Task 1: Defining the Search Problem [1 point]\n",
    "\n",
    "Define the components of the search problem associated with this game:\n",
    "\n",
    "* Initial state\n",
    "* Actions\n",
    "* Transition model\n",
    "* Test for the terminal state\n",
    "* Utility for terminal states"
   ]
  },
  {
   "cell_type": "markdown",
   "metadata": {},
   "source": [
    "Initial State - We start with an empty board. \n",
    "\n",
    "Actions - We can place a piece in every column that is not full when it is our turn. Since its mean connect four, we also can move an opponents piece from the bottom row of a column and move it to another column that is not full.\n",
    "\n",
    "Test for terminal state - We need to check for 4 in a row horizontally, vertically, or diagonally. The game is a draw if every column is full or we have made 100 moves."
   ]
  },
  {
   "cell_type": "markdown",
   "metadata": {},
   "source": [
    "How big is the state space? Give an estimate and explain it."
   ]
  },
  {
   "cell_type": "markdown",
   "metadata": {},
   "source": [
    "As an upper bound of the state space, it is all the possible combinations of pieces on the board. For a 7x6 board that would be 42 spaces. Each space can take three possible values (red, yellow, no piece). This means the upper bound on state space is 3^42. That's a very big number!"
   ]
  },
  {
   "cell_type": "markdown",
   "metadata": {},
   "source": [
    "How big is the game tree that minimax search will go through? Give an estimate and explain it."
   ]
  },
  {
   "cell_type": "code",
   "execution_count": 1,
   "metadata": {},
   "outputs": [],
   "source": [
    "# Your code/ answer goes here."
   ]
  },
  {
   "cell_type": "markdown",
   "metadata": {},
   "source": [
    "## Task 2: Game Environment and Random Agent [3 point]\n",
    "\n",
    "You can use a numpy character array as the board. Note that the following function can create boards of different sizes."
   ]
  },
  {
   "cell_type": "code",
   "execution_count": 2,
   "metadata": {},
   "outputs": [
    {
     "name": "stdout",
     "output_type": "stream",
     "text": [
      "[[0 0 0 0 0 0 0]\n",
      " [0 0 0 0 0 0 0]\n",
      " [0 0 0 0 0 0 0]\n",
      " [0 0 0 0 0 0 0]\n",
      " [0 0 0 0 0 0 0]\n",
      " [0 0 0 0 0 0 0]]\n"
     ]
    }
   ],
   "source": [
    "import numpy as np\n",
    "\n",
    "def empty_board(shape=(6, 7)):\n",
    "    return np.full(shape=shape, fill_value=0)\n",
    "\n",
    "print(empty_board())"
   ]
  },
  {
   "cell_type": "markdown",
   "metadata": {},
   "source": [
    "Instead of colors (red and yellow), you can use 1 and -1 to represent the players Max and Min. Make sure that your agent functions all have the from: `agent_type(board, player = 1)`, where board is the current board position and player is the player (1, -1) whose next move it is and who the agent should play."
   ]
  },
  {
   "cell_type": "markdown",
   "metadata": {},
   "source": [
    "Visualization code by Randolph Rankin:"
   ]
  },
  {
   "cell_type": "code",
   "execution_count": 3,
   "metadata": {
    "scrolled": true
   },
   "outputs": [
    {
     "data": {
      "image/png": "[encoded data removed]",
      "text/plain": [
       "<Figure size 432x288 with 1 Axes>"
      ]
     },
     "metadata": {
      "needs_background": "light"
     },
     "output_type": "display_data"
    }
   ],
   "source": [
    "import matplotlib.pyplot as plt\n",
    "\n",
    "def visualize(board):\n",
    "    plt.axes()\n",
    "    rectangle=plt.Rectangle((-0.5,len(board)*-1+0.5),len(board[0]),len(board),fc='blue')\n",
    "    circles=[]\n",
    "    for i,row in enumerate(board):\n",
    "        for j,val in enumerate(row):\n",
    "            color='white' if val==0 else 'red' if val==1 else 'yellow'\n",
    "            circles.append(plt.Circle((j,i*-1),0.4,fc=color))\n",
    "\n",
    "    plt.gca().add_patch(rectangle)\n",
    "    for circle in circles:\n",
    "        plt.gca().add_patch(circle)\n",
    "\n",
    "    plt.axis('scaled')\n",
    "    plt.show()\n",
    "    \n",
    "board = [[0, 0, 0, 0, 0, 0, 0],\n",
    "         [0, 0, 0, 0, 0, 0, 0],\n",
    "         [0, 0, 0, 0, 0, 0, 0],\n",
    "         [0, 0, 0, 1, 0, 0, 0],\n",
    "         [0, 0, 0, 1, 0, 0, 0],\n",
    "         [0,-1,-1, 1,-1, 0, 0]]\n",
    "\n",
    "visualize(board)"
   ]
  },
  {
   "cell_type": "markdown",
   "metadata": {},
   "source": [
    "Implement helper functions for:\n",
    "\n",
    "* The transition model $results(s, a)$.\n",
    "* The utility function $utility(s)$.\n",
    "* Check for terminal states $terminal(s)$.\n",
    "* A check for available actions in each state $actions(s)$.\n",
    "\n",
    "Make sure that all these functions work with boards of different sizes (number of columns and rows)."
   ]
  },
  {
   "cell_type": "markdown",
   "metadata": {},
   "source": [
    "There is a smart way to represent a connect four game by John Tromp. His website can be found [here](https://tromp.github.io). Professor Herzberg is a professor at the Technische Hochschule Mittelhessen and wrote a great explanation of Tromp's code and published it on [github](https://github.com/denkspuren/BitboardC4/blob/master/BitboardDesign.md). \n",
    "\n",
    "It is based on storing a players move as a bitboard, which is nothing more than an unsigned 64 bit integer. The assignment of what position corresponds to what bit is shown below. With these positions, you can use bit operations to determine if a player has won. This mapping also make it easy to see if a column can take any more pieces and is a valid next move. He also writes about keeping track of the heights for each column, so that the state transition is fast. I took the psuedocode and implemented it in python below.\n",
    "\n",
    "~~~\n",
    "\n",
    " 6 13 20 27 34 41 48   55 62     Additional row\n",
    "+---------------------+ \n",
    "| 5 12 19 26 33 40 47 | 54 61     top row\n",
    "| 4 11 18 25 32 39 46 | 53 60\n",
    "| 3 10 17 24 31 38 45 | 52 59\n",
    "| 2  9 16 23 30 37 44 | 51 58\n",
    "| 1  8 15 22 29 36 43 | 50 57\n",
    "| 0  7 14 21 28 35 42 | 49 56 63  bottom row\n",
    "+---------------------+\n",
    "~~~\n",
    "\n",
    "Since this format is very different than how it is stored above, I created functions to convert to and from the bitboard format. Using numba JIT compilation, I'm able to achieve a 5x speedup over the python native implementation. I also added the mean twist to all the different functions to make it work with the rules of the game."
   ]
  },
  {
   "cell_type": "code",
   "execution_count": 67,
   "metadata": {},
   "outputs": [
    {
     "ename": "IndentationError",
     "evalue": "expected an indented block (2297067414.py, line 116)",
     "output_type": "error",
     "traceback": [
      "\u001b[0;36m  File \u001b[0;32m\"/var/folders/92/vfpbwvg97_d2fb2kb17q0wr40000gn/T/ipykernel_9069/2297067414.py\"\u001b[0;36m, line \u001b[0;32m116\u001b[0m\n\u001b[0;31m    @njit()\u001b[0m\n\u001b[0m           ^\u001b[0m\n\u001b[0;31mIndentationError\u001b[0m\u001b[0;31m:\u001b[0m expected an indented block\n"
     ]
    }
   ],
   "source": [
    "from numba import njit\n",
    "\n",
    "HEIGHT = np.uint64(6)\n",
    "WIDTH = np.uint64(7)\n",
    "\n",
    "CAN_USE_MEAN_MOVES = True\n",
    "PLAYER_ONE_CAN_USE_MEAN_MOVES = False\n",
    "PLAYER_TWO_CAN_USE_MEAN_MOVES = True\n",
    "\n",
    "# Pre computed stuff based on formuals from John Tromp\n",
    "H1 = np.uint64(HEIGHT+1)\n",
    "H2 = np.uint64(HEIGHT+2)\n",
    "SIZE1 = np.uint64(H1*WIDTH)\n",
    "COL1 = np.uint64((np.uint64(1)<<H1)-np.uint64(1))\n",
    "ALL1 = np.uint64((np.uint64(1)<<SIZE1)-np.uint64(1))\n",
    "BOTTOM = np.uint64(ALL1 / COL1) \n",
    "TOP  = (BOTTOM << HEIGHT)\n",
    "FULL = (BOTTOM << (HEIGHT-np.uint64(1)))\n",
    "\n",
    "def make_bitboards():\n",
    "    return np.array([np.uint64(0), np.uint64(0)])\n",
    "\n",
    "@njit()\n",
    "def make_bitboard_heights():\n",
    "    heights = np.zeros(shape=WIDTH, dtype=np.uint64)\n",
    "   \n",
    "    for i in range(WIDTH):\n",
    "        heights[i] = i*H1\n",
    "\n",
    "    return heights\n",
    "\n",
    "@njit()\n",
    "def shift_pieces_down(boards, index, col):\n",
    "    starting_heights = make_bitboard_heights()\n",
    "    old_col_starting_height = starting_heights[col]\n",
    "\n",
    "    # Get all the values for this column\n",
    "    column = COL1 << old_col_starting_height\n",
    "    curr_column_values = boards[index] & column\n",
    "\n",
    "    # Clear them all\n",
    "    boards[index] ^= curr_column_values\n",
    "\n",
    "    # Clear out the one we pushed off the board\n",
    "    curr_column_values &= ~(np.uint64(1) << old_col_starting_height)\n",
    "\n",
    "    # Set them to the shifted version\n",
    "    boards[index] ^= curr_column_values >> np.uint64(1)\n",
    "\n",
    "\n",
    "@njit()\n",
    "def make_normal_bitboard_move(boards, heights, counter, col):\n",
    "    # Using the column, shift it to the right position\n",
    "    update = np.uint64(1) << heights[col]\n",
    "\n",
    "    # Keep track of the height for next time\n",
    "    heights[col] += 1\n",
    "\n",
    "    # Set this bit on the board\n",
    "    boards[counter & 1] ^= update\n",
    "\n",
    "\n",
    "@njit()\n",
    "def make_mean_bitboard_move(boards, heights, counter, old_col, new_col):\n",
    "    # Shift both boards down in that column\n",
    "    shift_pieces_down(boards, 0, old_col)\n",
    "    shift_pieces_down(boards, 1, old_col)\n",
    "    heights[old_col] -= 1\n",
    "\n",
    "    # Place the piece in the old column\n",
    "    # Note we shift counter since its an opponent piece\n",
    "    make_normal_bitboard_move(boards, heights, int(not (counter & 1)), new_col)\n",
    "\n",
    "@njit()\n",
    "def make_move(boards, heights, counter, move):\n",
    "    if(move < 10):\n",
    "        make_normal_bitboard_move(boards, heights, counter & 1, move-1)\n",
    "    else:\n",
    "        from_col = move // 10\n",
    "        to_col = move % 10\n",
    "        make_mean_bitboard_move(boards, heights, counter & 1, from_col-1, to_col-1)\n",
    "\n",
    "\n",
    "@njit()\n",
    "def get_actions(boards, heights, counter):\n",
    "    moves = []\n",
    "\n",
    "    for col in range(WIDTH):\n",
    "        if isplayable_normal(heights, col):\n",
    "            moves.append(col+1)\n",
    "    \n",
    "    if not CAN_USE_MEAN_MOVES:\n",
    "        return moves\n",
    "    \n",
    "    if (counter & 1) == 0:\n",
    "        if not PLAYER_ONE_CAN_USE_MEAN_MOVES: \n",
    "            return moves\n",
    "    else:\n",
    "        if not PLAYER_TWO_CAN_USE_MEAN_MOVES:\n",
    "            return moves\n",
    "    \n",
    "    for start in range(WIDTH):\n",
    "        for end in range(WIDTH):\n",
    "            if start == end:\n",
    "                continue\n",
    "        \n",
    "            if isplayable_mean(boards, heights, counter, start, end):\n",
    "                num = ((start+1)*10) + (end+1)\n",
    "                moves.append(num)\n",
    "\n",
    "    return moves\n",
    "\n",
    "@njit()\n",
    "def is_full(boards):\n",
    "    return FULL == (FULL & (boards[0] | boards[1]))\n",
    "\n",
    "@njit()\n",
    "def utility(boards):\n",
    "    if is_bitboard_win(boards[0]):\n",
    "        return 1\n",
    "    if is_bitboard_win(boards[1]):\n",
    "        return -1\n",
    "    if is_full(boards):\n",
    "        return 0\n",
    "        \n",
    "    return None\n",
    "\n",
    "@njit()\n",
    "def is_bitboard_win(board):\n",
    "    # diagonal \\\n",
    "    diag1 = board & (board >> HEIGHT)\n",
    "\n",
    "    # diagonal /\n",
    "    diag2 = board & (board >> H2)\n",
    "\n",
    "    # horizontal\n",
    "    hori = board & (board >> H1)\n",
    "\n",
    "    # vertical\n",
    "    vert = board & (board >> np.uint64(1))\n",
    "\n",
    "    return ((diag1 & (diag1 >> 2*HEIGHT)) |\n",
    "          (hori & (hori >> 2*H1)) |\n",
    "          (diag2 & (diag2 >> 2*H2)) |\n",
    "          (vert & (vert >> 2))) != 0\n",
    "\n",
    "@njit()\n",
    "def isplayable_normal(heights, column):\n",
    "    return (TOP & (np.uint64(1) << heights[column])) == 0\n",
    "\n",
    "\n",
    "@njit()\n",
    "def isplayable_mean(boards, heights, counter, from_col, end_col):\n",
    "    other_board = int(not (counter & 1))\n",
    "\n",
    "    pos = np.uint64(1) << (np.uint64(from_col)*H1)\n",
    "    if (boards[other_board] & pos) == 0:\n",
    "        return False\n",
    "    \n",
    "    return isplayable_normal(heights, end_col)\n",
    "\n",
    "\n",
    "def class_board_to_bitboards(classboard):\n",
    "    boards = make_bitboards()\n",
    "    heights = make_bitboard_heights()\n",
    "\n",
    "    for row in range(int(HEIGHT)-1, -1, -1):\n",
    "        for col in range(WIDTH):\n",
    "            cpiece = classboard[row][col]\n",
    "            if cpiece == 1:\n",
    "                make_normal_bitboard_move(boards, heights, 0, col)\n",
    "            if cpiece == -1:\n",
    "                make_normal_bitboard_move(boards, heights, 1, col)\n",
    "\n",
    "    return boards, heights\n",
    "\n",
    "\n",
    "def bitboards_to_class_board(boards):\n",
    "    red_board = boards[0]\n",
    "    yellow_board = boards[1]\n",
    "\n",
    "    classboard = np.zeros(shape=(HEIGHT, WIDTH), dtype=np.int32)\n",
    "\n",
    "    for row in range(HEIGHT):\n",
    "        for col in range(7):\n",
    "            bit = np.uint64(1) << (np.uint8(H1*col)+np.uint64(row))\n",
    "\n",
    "            # If there is piece there, update class board\n",
    "            if (red_board & bit) != 0:\n",
    "                classboard[int(HEIGHT)-row-1][col] = 1\n",
    "\n",
    "            # Same but with other board\n",
    "            if (yellow_board & bit) != 0:\n",
    "                classboard[int(HEIGHT)-row-1][col] = -1\n",
    "\n",
    "    return classboard\n"
   ]
  },
  {
   "cell_type": "code",
   "execution_count": 5,
   "metadata": {},
   "outputs": [
    {
     "data": {
      "text/plain": [
       "False"
      ]
     },
     "execution_count": 5,
     "metadata": {},
     "output_type": "execute_result"
    }
   ],
   "source": [
    "boards = make_bitboards()\n",
    "heights = make_bitboard_heights()\n",
    "\n",
    "isplayable_mean(boards, heights, 0, 0, 2)\n"
   ]
  },
  {
   "cell_type": "code",
   "execution_count": 6,
   "metadata": {},
   "outputs": [
    {
     "data": {
      "image/png": "[encoded data removed]",
      "text/plain": [
       "<Figure size 432x288 with 1 Axes>"
      ]
     },
     "metadata": {
      "needs_background": "light"
     },
     "output_type": "display_data"
    },
    {
     "data": {
      "image/png": "[encoded data removed]",
      "text/plain": [
       "<Figure size 432x288 with 1 Axes>"
      ]
     },
     "metadata": {
      "needs_background": "light"
     },
     "output_type": "display_data"
    },
    {
     "data": {
      "image/png": "[encoded data removed]",
      "text/plain": [
       "<Figure size 432x288 with 1 Axes>"
      ]
     },
     "metadata": {
      "needs_background": "light"
     },
     "output_type": "display_data"
    }
   ],
   "source": [
    "boards = make_bitboards()\n",
    "heights = make_bitboard_heights()\n",
    "\n",
    "make_move(boards, heights, 0, 1)\n",
    "make_move(boards, heights, 1, 2)\n",
    "\n",
    "classboard = bitboards_to_class_board(boards)\n",
    "visualize(classboard)\n",
    "\n",
    "make_move(boards, heights, 2, 21)\n",
    "\n",
    "classboard = bitboards_to_class_board(boards)\n",
    "visualize(classboard)\n",
    "\n",
    "make_move(boards, heights, 3, 12)\n",
    "\n",
    "classboard = bitboards_to_class_board(boards)\n",
    "visualize(classboard)"
   ]
  },
  {
   "cell_type": "code",
   "execution_count": 7,
   "metadata": {},
   "outputs": [
    {
     "data": {
      "image/png": "[encoded data removed]",
      "text/plain": [
       "<Figure size 432x288 with 1 Axes>"
      ]
     },
     "metadata": {
      "needs_background": "light"
     },
     "output_type": "display_data"
    },
    {
     "data": {
      "image/png": "[encoded data removed]",
      "text/plain": [
       "<Figure size 432x288 with 1 Axes>"
      ]
     },
     "metadata": {
      "needs_background": "light"
     },
     "output_type": "display_data"
    }
   ],
   "source": [
    "boards = make_bitboards()\n",
    "heights = make_bitboard_heights()\n",
    "\n",
    "make_move(boards, heights, 0, 1)\n",
    "make_move(boards, heights, 1, 2)\n",
    "make_move(boards, heights, 2, 2)\n",
    "make_move(boards, heights, 3, 1)\n",
    "\n",
    "classboard = bitboards_to_class_board(boards)\n",
    "visualize(classboard)\n",
    "\n",
    "boards, heights = class_board_to_bitboards(classboard)\n",
    "visualize(classboard)\n"
   ]
  },
  {
   "cell_type": "code",
   "execution_count": 8,
   "metadata": {},
   "outputs": [
    {
     "name": "stdout",
     "output_type": "stream",
     "text": [
      "Moves on empty board:  [1, 2, 3, 4, 5, 6, 7]\n",
      "Moves with one piece:  [1, 2, 3, 4, 5, 6, 7]\n"
     ]
    },
    {
     "data": {
      "image/png": "[encoded data removed]",
      "text/plain": [
       "<Figure size 432x288 with 1 Axes>"
      ]
     },
     "metadata": {
      "needs_background": "light"
     },
     "output_type": "display_data"
    },
    {
     "name": "stdout",
     "output_type": "stream",
     "text": [
      "Moves with one piece:  [1, 2, 3, 4, 5, 6, 7]\n"
     ]
    }
   ],
   "source": [
    "boards = make_bitboards()\n",
    "heights = make_bitboard_heights()\n",
    "\n",
    "print('Moves on empty board: ', get_valid_moves(boards, heights, 0))\n",
    "\n",
    "make_move(boards, heights, 0, 1)\n",
    "\n",
    "print('Moves with one piece: ', get_valid_moves(boards, heights, 1))\n",
    "\n",
    "make_move(boards, heights, 1, 2)\n",
    "\n",
    "classboard = bitboards_to_class_board(boards)\n",
    "visualize(classboard)\n",
    "\n",
    "print('Moves with one piece: ', get_valid_moves(boards, heights, 0))\n",
    "\n"
   ]
  },
  {
   "cell_type": "markdown",
   "metadata": {},
   "source": [
    "Implement an agent that plays randomly. Make sure the agent function receives as the percept the board and returns a valid action."
   ]
  },
  {
   "cell_type": "code",
   "execution_count": 49,
   "metadata": {},
   "outputs": [],
   "source": [
    "import random\n",
    "\n",
    "def random_agent(boards, heights, counter):\n",
    "    #if counter == 0:\n",
    "    #    return 4\n",
    "\n",
    "    moves = get_valid_moves(boards, heights, counter)\n",
    "\n",
    "    if len(moves) == 0:\n",
    "        return None\n",
    "        \n",
    "    move = np.random.choice(moves, size=1)[0]\n",
    "    return move"
   ]
  },
  {
   "cell_type": "markdown",
   "metadata": {},
   "source": [
    "Let two random agents play against each other 1000 times. Look at the [Experiments section for tic-tac-toe](https://nbviewer.org/github/mhahsler/CS7320-AI/blob/master/Games/tictactoe_and_or_tree_search.ipynb#Experiments) to see how ranom agents can play against each other.\n",
    "\n",
    "How often does each player win? Is the result expected?"
   ]
  },
  {
   "cell_type": "code",
   "execution_count": 61,
   "metadata": {},
   "outputs": [],
   "source": [
    "def play(red, yellow, N = 100):\n",
    "    \"\"\"Let two agents play each other N times. x starts. x and y are agent functions that \n",
    "    get the board as the percept and return their next action.\"\"\"\n",
    "    results = {'red': 0, 'yellow': 0, 'd': 0}\n",
    "    \n",
    "    num_moves_to_finish = []\n",
    "    funcs = [red, yellow]\n",
    "\n",
    "    for _ in range(N):\n",
    "        boards = make_bitboards()\n",
    "        heights = make_bitboard_heights()\n",
    "\n",
    "        for move_num in range(100):\n",
    "            move = funcs[move_num & 1](boards, heights, move_num)\n",
    "            if move is None:\n",
    "                results['d'] += 1\n",
    "                break\n",
    "\n",
    "            make_move(boards, heights, move_num, move)\n",
    "            \n",
    "            if is_bitboard_win(boards[0]):\n",
    "                results['red'] += 1\n",
    "                num_moves_to_finish.append(move_num)\n",
    "                break\n",
    "\n",
    "            if is_bitboard_win(boards[1]):\n",
    "                results['yellow'] += 1\n",
    "                num_moves_to_finish.append(move_num)\n",
    "                break\n",
    "        \n",
    "        if move_num == 99:\n",
    "            results['d'] += 1\n",
    "    \n",
    "    return results, num_moves_to_finish"
   ]
  },
  {
   "cell_type": "code",
   "execution_count": 65,
   "metadata": {},
   "outputs": [
    {
     "data": {
      "text/plain": [
       "{'red': 9826, 'yellow': 174, 'd': 0}"
      ]
     },
     "execution_count": 65,
     "metadata": {},
     "output_type": "execute_result"
    }
   ],
   "source": [
    "results, num_moves_to_finish = play(random_agent, random_agent, N = 10_000)\n",
    "results"
   ]
  },
  {
   "cell_type": "code",
   "execution_count": 66,
   "metadata": {},
   "outputs": [
    {
     "data": {
      "text/plain": [
       "(array([1.160e+03, 2.260e+03, 2.190e+03, 2.286e+03, 1.080e+03, 7.360e+02,\n",
       "        2.320e+02, 4.400e+01, 1.100e+01, 1.000e+00]),\n",
       " array([ 6. ,  9.6, 13.2, 16.8, 20.4, 24. , 27.6, 31.2, 34.8, 38.4, 42. ]),\n",
       " <BarContainer object of 10 artists>)"
      ]
     },
     "execution_count": 66,
     "metadata": {},
     "output_type": "execute_result"
    },
    {
     "data": {
      "image/png": "[encoded data removed]",
      "text/plain": [
       "<Figure size 432x288 with 1 Axes>"
      ]
     },
     "metadata": {
      "needs_background": "light"
     },
     "output_type": "display_data"
    }
   ],
   "source": [
    "plt.hist(num_moves_to_finish)"
   ]
  },
  {
   "cell_type": "markdown",
   "metadata": {},
   "source": [
    "## Task 3: Minimax Search with Alpha-Beta Pruning [3 points]\n",
    "\n",
    "### Implement the search starting from a given board and specifying the player.\n",
    "\n",
    "You can use code from the [tic-tac-toe example](https://nbviewer.org/github/mhahsler/CS7320-AI/blob/master/Games/tictactoe_alpha_beta_tree_search.ipynb).\n"
   ]
  },
  {
   "cell_type": "markdown",
   "metadata": {},
   "source": [
    "__Note:__ The game tree for a $6 \\times 7$ board is large. You can experiment with smaller boards (the smallest is $4 \\times 4$)."
   ]
  },
  {
   "cell_type": "code",
   "execution_count": 8,
   "metadata": {},
   "outputs": [],
   "source": [
    "import math \n",
    "\n",
    "# global variables\n",
    "DEBUG = 1 # 1 ... count nodes, 2 ... debug each node\n",
    "COUNT = 0\n",
    "\n",
    "def alpha_beta_search(board, player = 'x'):\n",
    "    \"\"\"start the search.\"\"\"\n",
    "    global DEBUG, COUNT\n",
    "    COUNT = 0\n",
    "    \n",
    "    value, move = max_value_ab(board, player, -math.inf, +math.inf)\n",
    "    \n",
    "    if DEBUG >= 1: print(f\"Number of nodes searched: {COUNT}\") \n",
    "    \n",
    "    return { \"move\": move, \"value\": value }\n",
    "\n",
    "def max_value_ab(state, player, alpha, beta):\n",
    "    \"\"\"player's best move.\"\"\"\n",
    "    global DEBUG, COUNT\n",
    "    COUNT += 1\n",
    "       \n",
    "    # return utility of state is a terminal state\n",
    "    v = utility(state, player)\n",
    "    if DEBUG >= 2: print(\"max: \" + str(state) + str([alpha, beta, v]) ) \n",
    "    if v is not None: return v, None\n",
    "        \n",
    "    v, move = -math.inf, None\n",
    "\n",
    "    # check all possible actions in the state, update alpha and return move with the largest value\n",
    "    for a in get_actions(state):\n",
    "        v2, a2 = min_value_ab(result(state, player, a), player, alpha, beta)\n",
    "        if v2 > v:\n",
    "            v, move = v2, a\n",
    "            alpha = max(alpha, v)\n",
    "        if v >= beta: return v, move\n",
    "    \n",
    "    return v, move\n",
    "\n",
    "def min_value_ab(state, player, alpha, beta):\n",
    "    \"\"\"opponent's best response.\"\"\"\n",
    "    global DEBUG, COUNT\n",
    "    COUNT += 1\n",
    "    \n",
    "    # return utility of state is a terminal state\n",
    "    v = utility(state, player)\n",
    "    if DEBUG >= 2: print(\"min: \" + str(state) + str([alpha, beta, v]) ) \n",
    "    if v is not None: return v, None\n",
    "    \n",
    "    v, move = +math.inf, None\n",
    "\n",
    "    # check all possible actions in the state, update beta and return move with the smallest value\n",
    "    for a in get_actions(state):\n",
    "        v2, a2 = max_value_ab(result(state, other(player), a), player, alpha, beta)\n",
    "        if v2 < v:\n",
    "            v, move = v2, a\n",
    "            beta = min(beta, v)\n",
    "        if v <= alpha: return v, move\n",
    "    \n",
    "    return v, move"
   ]
  },
  {
   "cell_type": "markdown",
   "metadata": {},
   "source": [
    "Experiment with some manually created boards (at least 5) to check if the agent spots winning opportunities."
   ]
  },
  {
   "cell_type": "code",
   "execution_count": 9,
   "metadata": {},
   "outputs": [],
   "source": [
    "# Your code/ answer goes here."
   ]
  },
  {
   "cell_type": "markdown",
   "metadata": {},
   "source": [
    "How long does it take to make a move? Start with a smaller board with 4 columns and make the board larger by adding columns."
   ]
  },
  {
   "cell_type": "code",
   "execution_count": 10,
   "metadata": {},
   "outputs": [],
   "source": [
    "# Your code/ answer goes here."
   ]
  },
  {
   "cell_type": "markdown",
   "metadata": {},
   "source": [
    "### Move ordering\n",
    "\n",
    "Describe and implement a simple move ordering strategy. Make a table that shows how the ordering strategies influence the time it takes to make a move?"
   ]
  },
  {
   "cell_type": "code",
   "execution_count": 11,
   "metadata": {},
   "outputs": [],
   "source": [
    "# Your code/ answer goes here."
   ]
  },
  {
   "cell_type": "markdown",
   "metadata": {},
   "source": [
    "### The first few moves\n",
    "\n",
    "Start with an empty board. This is the worst case scenario for minimax search with alpha-beta pruning since it needs solve all possible games that can be played (minus some pruning) before making the decision. What can you do? "
   ]
  },
  {
   "cell_type": "code",
   "execution_count": 12,
   "metadata": {},
   "outputs": [],
   "source": [
    "# Your code/ answer goes here."
   ]
  },
  {
   "cell_type": "markdown",
   "metadata": {},
   "source": [
    "### Playtime\n",
    "\n",
    "Let the Minimax Search agent play a random agent on a small board. Analyze wins, losses and draws."
   ]
  },
  {
   "cell_type": "code",
   "execution_count": 13,
   "metadata": {},
   "outputs": [],
   "source": [
    "# Your code/ answer goes here."
   ]
  },
  {
   "cell_type": "markdown",
   "metadata": {},
   "source": [
    "## Task 4: Heuristic Alpha-Beta Tree Search [3 points] \n",
    "\n",
    "### Heuristic evaluation function\n",
    "\n",
    "Define and implement a heuristic evaluation function."
   ]
  },
  {
   "cell_type": "code",
   "execution_count": 14,
   "metadata": {},
   "outputs": [],
   "source": [
    "# Your code/ answer goes here."
   ]
  },
  {
   "cell_type": "markdown",
   "metadata": {},
   "source": [
    "### Cutting off search \n",
    "\n",
    "Modify your Minimax Search with Alpha-Beta Pruning to cut off search at a specified depth and use the heuristic evaluation function. Experiment with different cutoff values."
   ]
  },
  {
   "cell_type": "code",
   "execution_count": 15,
   "metadata": {},
   "outputs": [],
   "source": [
    "# Your code/ answer goes here."
   ]
  },
  {
   "cell_type": "markdown",
   "metadata": {},
   "source": [
    "Experiment with the same manually created boards as above to check if the agent spots winning opportunities."
   ]
  },
  {
   "cell_type": "code",
   "execution_count": 16,
   "metadata": {},
   "outputs": [],
   "source": [
    "# Your code/ answer goes here."
   ]
  },
  {
   "cell_type": "markdown",
   "metadata": {},
   "source": [
    "How long does it take to make a move? Start with a smaller board with 4 columns and make the board larger by adding columns."
   ]
  },
  {
   "cell_type": "code",
   "execution_count": 17,
   "metadata": {},
   "outputs": [],
   "source": [
    "# Your code/ answer goes here."
   ]
  },
  {
   "cell_type": "markdown",
   "metadata": {},
   "source": [
    "### Playtime\n",
    "\n",
    "Let two heuristic search agents (different cutoff depth, different heuristic evaluation function) compete against each other on a reasonably sized board. Since there is no randomness, you only need to let them play once."
   ]
  },
  {
   "cell_type": "code",
   "execution_count": 18,
   "metadata": {},
   "outputs": [],
   "source": [
    "# Your code/ answer goes here."
   ]
  },
  {
   "cell_type": "markdown",
   "metadata": {},
   "source": [
    "## Tournament task [+ 1 to 5 bonus point will be assigned separately]\n",
    "\n",
    "Find another student and let your best agent play against the other student's best player. You are allowed to use any improvements you like as long as you code it yourself. We will set up a class tournament on Canvas. This tournament will continue after the submission deadline."
   ]
  },
  {
   "cell_type": "markdown",
   "metadata": {},
   "source": [
    "## Graduate student advanced task: Pure Monte Carlo Search and Best First Move [1 point]\n",
    "\n",
    "__Undergraduate students:__ This is a bonus task you can attempt if you like [+1 Bonus point].\n",
    "\n",
    "### Pure Monte Carlo Search\n",
    "\n",
    "Implement Pure Monte Carlo Search (see [tic-tac-toe-example](https://nbviewer.org/github/mhahsler/CS7320-AI/blob/master/Games/tictactoe_pure_monte_carlo_search.ipynb)) and investigate how this search performs on the test boards that you have used above. "
   ]
  },
  {
   "cell_type": "code",
   "execution_count": 19,
   "metadata": {},
   "outputs": [],
   "source": [
    "# Your code/ answer goes here."
   ]
  },
  {
   "cell_type": "markdown",
   "metadata": {},
   "source": [
    "### Best First Move\n",
    "\n",
    "How would you determine what the best first move for a standard board ($6 \\times 7$) is? You can use Pure Monte Carlo Search or any algorithms that you have implemented above."
   ]
  },
  {
   "cell_type": "code",
   "execution_count": 20,
   "metadata": {},
   "outputs": [],
   "source": [
    "# Your code/ answer goes here."
   ]
  }
 ],
 "metadata": {
  "kernelspec": {
   "display_name": "Python 3 (ipykernel)",
   "language": "python",
   "name": "python3"
  },
  "language_info": {
   "codemirror_mode": {
    "name": "ipython",
    "version": 3
   },
   "file_extension": ".py",
   "mimetype": "text/x-python",
   "name": "python",
   "nbconvert_exporter": "python",
   "pygments_lexer": "ipython3",
   "version": "3.9.7"
  }
 },
 "nbformat": 4,
 "nbformat_minor": 4
}
