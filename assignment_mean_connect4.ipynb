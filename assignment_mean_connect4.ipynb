{
 "cells": [
  {
   "cell_type": "markdown",
   "metadata": {},
   "source": [
    "# Adversarial Search: Playing \"Mean\" Connect 4 - Troy McNitt\n",
    "\n",
    "\n",
    "## Instructions\n",
    "\n",
    "Total Points: Undegraduates 10, graduate students 11\n",
    "\n",
    "Complete this notebook and submit it. The notebook needs to be a complete project report with your implementation, documentation including a short discussion of how your implementation works and your design choices, and experimental results (e.g., tables and charts with simulation results) with a short discussion of what they mean. Use the provided notebook cells and insert additional code and markdown cells as needed.\n",
    "\n",
    "## Introduction\n",
    "\n",
    "You will implement different versions of agents that play \"Mean\" Connect 4:\n",
    "\n",
    "> \"Connect 4 is a two-player connection board game, in which the players choose a color and then take turns dropping colored discs into a seven-column, six-row vertically suspended grid. The pieces fall straight down, occupying the lowest available space within the column. The objective of the game is to be the first to form a horizontal, vertical, or diagonal line of four of one's own discs.\" (see [Connect Four on Wikipedia](https://en.wikipedia.org/wiki/Connect_Four))\n",
    "\n",
    "> **The mean part:** This game has an additional rule. Every time it is a player's turn, the player can decide to instead of playing a new disk, take a bottom row disk of the opponent and place it in any column. All disks above the removed disk will fall down one position. Note that a player can only move an _opponent's disc_ that is in the _bottom row_ of the board.\n",
    "\n",
    "Note that normal [Connect-4 has been solved](https://en.wikipedia.org/wiki/Connect_Four#Mathematical_solution)\n",
    "in 1988. A connect-4 solver with a discussion of how to solve different parts of the problem can be found here: https://connect4.gamesolver.org/en/"
   ]
  },
  {
   "cell_type": "markdown",
   "metadata": {},
   "source": [
    "## Task 1: Defining the Search Problem [1 point]\n",
    "\n",
    "Define the components of the search problem associated with this game:\n",
    "\n",
    "* Initial state\n",
    "* Actions\n",
    "* Transition model\n",
    "* Test for the terminal state\n",
    "* Utility for terminal states"
   ]
  },
  {
   "cell_type": "code",
   "execution_count": 2,
   "metadata": {},
   "outputs": [],
   "source": [
    "# Your code/answer goes here."
   ]
  },
  {
   "cell_type": "markdown",
   "metadata": {},
   "source": [
    "How big is the state space? Give an estimate and explain it."
   ]
  },
  {
   "cell_type": "code",
   "execution_count": 3,
   "metadata": {},
   "outputs": [],
   "source": [
    "# Your code/ answer goes here."
   ]
  },
  {
   "cell_type": "markdown",
   "metadata": {},
   "source": [
    "How big is the game tree that minimax search will go through? Give an estimate and explain it."
   ]
  },
  {
   "cell_type": "code",
   "execution_count": 4,
   "metadata": {},
   "outputs": [],
   "source": [
    "# Your code/ answer goes here."
   ]
  },
  {
   "cell_type": "markdown",
   "metadata": {},
   "source": [
    "## Task 2: Game Environment and Random Agent [3 point]\n",
    "\n",
    "You can use a numpy character array as the board. Note that the following function can create boards of different sizes."
   ]
  },
  {
   "cell_type": "code",
   "execution_count": 5,
   "metadata": {},
   "outputs": [
    {
     "name": "stdout",
     "output_type": "stream",
     "text": [
      "[[0 0 0 0 0 0 0]\n",
      " [0 0 0 0 0 0 0]\n",
      " [0 0 0 0 0 0 0]\n",
      " [0 0 0 0 0 0 0]\n",
      " [0 0 0 0 0 0 0]\n",
      " [0 0 0 0 0 0 0]]\n"
     ]
    }
   ],
   "source": [
    "import numpy as np\n",
    "\n",
    "def empty_board(shape=(6, 7)):\n",
    "    return np.full(shape=shape, fill_value=0)\n",
    "\n",
    "print(empty_board())"
   ]
  },
  {
   "cell_type": "markdown",
   "metadata": {},
   "source": [
    "Instead of colors (red and yellow), you can use 1 and -1 to represent the players Max and Min. Make sure that your agent functions all have the from: `agent_type(board, player = 1)`, where board is the current board position and player is the player (1, -1) whose next move it is and who the agent should play."
   ]
  },
  {
   "cell_type": "markdown",
   "metadata": {},
   "source": [
    "Visualization code by Randolph Rankin:"
   ]
  },
  {
   "cell_type": "code",
   "execution_count": 6,
   "metadata": {
    "scrolled": true
   },
   "outputs": [
    {
     "data": {
      "image/png": "[encoded data removed]",
      "text/plain": [
       "<Figure size 432x288 with 1 Axes>"
      ]
     },
     "metadata": {
      "needs_background": "light"
     },
     "output_type": "display_data"
    }
   ],
   "source": [
    "import matplotlib.pyplot as plt\n",
    "\n",
    "def visualize(board):\n",
    "    plt.axes()\n",
    "    rectangle=plt.Rectangle((-0.5,len(board)*-1+0.5),len(board[0]),len(board),fc='blue')\n",
    "    circles=[]\n",
    "    for i,row in enumerate(board):\n",
    "        for j,val in enumerate(row):\n",
    "            color='white' if val==0 else 'red' if val==1 else 'yellow'\n",
    "            circles.append(plt.Circle((j,i*-1),0.4,fc=color))\n",
    "\n",
    "    plt.gca().add_patch(rectangle)\n",
    "    for circle in circles:\n",
    "        plt.gca().add_patch(circle)\n",
    "\n",
    "    plt.axis('scaled')\n",
    "    plt.show()\n",
    "    \n",
    "board = [[0, 0, 0, 0, 0, 0, 0],\n",
    "         [0, 0, 0, 0, 0, 0, 0],\n",
    "         [0, 0, 0, 0, 0, 0, 0],\n",
    "         [0, 0, 0, 1, 0, 0, 0],\n",
    "         [0, 0, 0, 1, 0, 0, 0],\n",
    "         [0,-1,-1, 1,-1, 0, 0]]\n",
    "\n",
    "visualize(board)"
   ]
  },
  {
   "cell_type": "markdown",
   "metadata": {},
   "source": [
    "Implement helper functions for:\n",
    "\n",
    "* The transition model $results(s, a)$.\n",
    "* The utility function $utility(s)$.\n",
    "* Check for terminal states $terminal(s)$.\n",
    "* A check for available actions in each state $actions(s)$.\n",
    "\n",
    "Make sure that all these functions work with boards of different sizes (number of columns and rows)."
   ]
  },
  {
   "cell_type": "markdown",
   "metadata": {},
   "source": [
    "There is a smart way to represent a connect four game by John Tromp. His website can be found [here](https://tromp.github.io). Professor Herzberg is a professor at the Technische Hochschule Mittelhessen and wrote a great explanation of Tromp's code and published it on [github](https://github.com/denkspuren/BitboardC4/blob/master/BitboardDesign.md). \n",
    "\n",
    "It is based on storing a players move as a bitboard, which is nothing more than an unsigned 64 bit integer. The assignment of what position corresponds to what bit is shown below. With these positions, you can use bit operations to determine if a player has won. This mapping also make it easy to see if a column can take any more pieces and is a valid next move. He also writes about keeping track of the heights for each column, so that the state transition is fast. I took the psuedocode and implemented it in python below.\n",
    "\n",
    "~~~\n",
    "\n",
    " 6 13 20 27 34 41 48   55 62     Additional row\n",
    "+---------------------+ \n",
    "| 5 12 19 26 33 40 47 | 54 61     top row\n",
    "| 4 11 18 25 32 39 46 | 53 60\n",
    "| 3 10 17 24 31 38 45 | 52 59\n",
    "| 2  9 16 23 30 37 44 | 51 58\n",
    "| 1  8 15 22 29 36 43 | 50 57\n",
    "| 0  7 14 21 28 35 42 | 49 56 63  bottom row\n",
    "+---------------------+\n",
    "~~~\n",
    "\n",
    "Since this format is very different than how it is stored above, I created functions to convert to and from the bitboard format. Using numba JIT compilation, I'm able to achieve a 5x speedup over the python native implementation. I also added the mean twist to all the different functions to make it work with the rules of the game."
   ]
  },
  {
   "cell_type": "code",
   "execution_count": 7,
   "metadata": {},
   "outputs": [],
   "source": [
    "from numba import njit\n",
    "\n",
    "\n",
    "def make_bitboards():\n",
    "    return np.array([np.uint64(0), np.uint64(0)])\n",
    "\n",
    "\n",
    "@njit()\n",
    "def make_bitboard_heights():\n",
    "    return np.array([0, 7, 14, 21, 28, 35, 42], dtype=np.uint64)\n",
    "\n",
    "\n",
    "@njit()\n",
    "def shift_pieces_down(boards, index, col):\n",
    "    starting_heights = make_bitboard_heights()\n",
    "    old_col_starting_height = starting_heights[col]\n",
    "\n",
    "    # Get all the values for this column\n",
    "    column = np.uint64(0b111111) << old_col_starting_height\n",
    "    curr_column_values = boards[index] & column\n",
    "\n",
    "    # Clear them all\n",
    "    boards[index] ^= curr_column_values\n",
    "\n",
    "    # Clear out the one we pushed off the board\n",
    "    curr_column_values &= ~(1 << old_col_starting_height)\n",
    "\n",
    "    # Set them to the shifted version\n",
    "    boards[index] ^= curr_column_values >> 1\n",
    "\n",
    "\n",
    "@njit()\n",
    "def make_bitboard_move(boards, heights, counter, col):\n",
    "    # Using the column, shift it to the right position\n",
    "    update = np.uint64(1) << heights[col]\n",
    "\n",
    "    # Keep track of the height for next time\n",
    "    heights[col] += 1\n",
    "\n",
    "    # Set this bit on the board\n",
    "    boards[counter & 1] ^= update\n",
    "\n",
    "\n",
    "@njit()\n",
    "def switch_bitboard_column(boards, heights, counter, old_col, new_col):\n",
    "    # Shift both boards down in that column\n",
    "    shift_pieces_down(boards, 0, old_col)\n",
    "    shift_pieces_down(boards, 1, old_col)\n",
    "    heights[old_col] -= 1\n",
    "\n",
    "    # Place the piece in the old column\n",
    "    # Note we shift counter since its an opponent piece\n",
    "    make_bitboard_move(boards, heights, counter ^ 1, new_col)\n",
    "\n",
    "\n",
    "def get_bitboard_mean_moves(boards, heights, counter):\n",
    "    pass\n",
    "\n",
    "\n",
    "@njit()\n",
    "def is_bitboard_win(board):\n",
    "    # diagonal \\\n",
    "    if (\n",
    "        board\n",
    "        & (board >> np.uint64(6))\n",
    "        & (board >> np.uint64(12))\n",
    "        & (board >> np.uint64(18))\n",
    "        != 0\n",
    "    ):\n",
    "        return True\n",
    "\n",
    "    # diagonal /\n",
    "    if (\n",
    "        board\n",
    "        & (board >> np.uint64(8))\n",
    "        & (board >> np.uint64(16))\n",
    "        & (board >> np.uint64(24))\n",
    "        != 0\n",
    "    ):\n",
    "        return True\n",
    "\n",
    "    # horizontal\n",
    "    if (\n",
    "        board\n",
    "        & (board >> np.uint64(7))\n",
    "        & (board >> np.uint64(14))\n",
    "        & (board >> np.uint64(21))\n",
    "        != 0\n",
    "    ):\n",
    "        return True\n",
    "\n",
    "    # vertical\n",
    "    if (\n",
    "        board\n",
    "        & (board >> np.uint64(1))\n",
    "        & (board >> np.uint64(2))\n",
    "        & (board >> np.uint64(3))\n",
    "        != 0\n",
    "    ):\n",
    "        return True\n",
    "\n",
    "    return False\n",
    "\n",
    "\n",
    "@njit()\n",
    "def get_bitboard_moves(heights):\n",
    "    # Get the top row for each column\n",
    "    TOP = np.uint64(0b1000000_1000000_1000000_1000000_1000000_1000000_1000000)\n",
    "\n",
    "    output = []\n",
    "    for col in range(0, 7):\n",
    "        # If there is nothing there, put column as choice\n",
    "        if (TOP & (np.uint64(1) << heights[col])) == 0:\n",
    "            output.append(col)\n",
    "\n",
    "    return output\n",
    "\n",
    "\n",
    "def class_board_to_bitboards(classboard):\n",
    "    boards = make_bitboards()\n",
    "    heights = make_bitboard_heights()\n",
    "\n",
    "    for row in range(5, -1, -1):\n",
    "        for col in range(7):\n",
    "            cpiece = classboard[row][col]\n",
    "            if cpiece == 1:\n",
    "                make_bitboard_move(boards, heights, 0, col)\n",
    "            if cpiece == -1:\n",
    "                make_bitboard_move(boards, heights, 1, col)\n",
    "\n",
    "    return boards, heights\n",
    "\n",
    "\n",
    "def bitboards_to_class_board(boards):\n",
    "    red_board = boards[0]\n",
    "    yellow_board = boards[1]\n",
    "\n",
    "    classboard = [\n",
    "        [0, 0, 0, 0, 0, 0, 0],\n",
    "        [0, 0, 0, 0, 0, 0, 0],\n",
    "        [0, 0, 0, 0, 0, 0, 0],\n",
    "        [0, 0, 0, 0, 0, 0, 0],\n",
    "        [0, 0, 0, 0, 0, 0, 0],\n",
    "        [0, 0, 0, 0, 0, 0, 0],\n",
    "    ]\n",
    "\n",
    "    starting_heights = np.array([0, 7, 14, 21, 28, 35, 42], dtype=np.uint64)\n",
    "\n",
    "    for row in range(5, -1, -1):\n",
    "        for col in range(7):\n",
    "            # For this row and column, get the bit from the board\n",
    "            position = np.uint64(1) << starting_heights[col]\n",
    "\n",
    "            # If there is piece there, update class board\n",
    "            if (red_board & position) != 0:\n",
    "                classboard[row][col] = 1\n",
    "\n",
    "            # Same but with other board\n",
    "            if (yellow_board & position) != 0:\n",
    "                classboard[row][col] = -1\n",
    "\n",
    "            # Increase height for next row\n",
    "            starting_heights[col] += 1\n",
    "\n",
    "    return classboard\n"
   ]
  },
  {
   "cell_type": "code",
   "execution_count": 33,
   "metadata": {},
   "outputs": [
    {
     "data": {
      "image/png": "[encoded data removed]",
      "text/plain": [
       "<Figure size 432x288 with 1 Axes>"
      ]
     },
     "metadata": {
      "needs_background": "light"
     },
     "output_type": "display_data"
    },
    {
     "name": "stdout",
     "output_type": "stream",
     "text": [
      "[ 6 13 20 27 34 41 48]\n",
      "[]\n"
     ]
    },
    {
     "data": {
      "text/plain": [
       "'0b0'"
      ]
     },
     "execution_count": 33,
     "metadata": {},
     "output_type": "execute_result"
    }
   ],
   "source": [
    "boards = make_bitboards()\n",
    "heights = make_bitboard_heights()\n",
    "\n",
    "for i in range(0, 7):\n",
    "    make_bitboard_move(boards, heights, 0, i)\n",
    "    make_bitboard_move(boards, heights, 0, i)\n",
    "    make_bitboard_move(boards, heights, 0, i)\n",
    "    make_bitboard_move(boards, heights, 0, i)\n",
    "    make_bitboard_move(boards, heights, 0, i)\n",
    "    make_bitboard_move(boards, heights, 0, i)\n",
    "\n",
    "\n",
    "classboard = bitboards_to_class_board(boards)\n",
    "visualize(classboard)\n",
    "\n",
    "top = np.uint64(1) << np.uint64(6)\n",
    "print(heights)\n",
    "print(get_bitboard_moves(heights))\n",
    "\n",
    "bin(boards[0] & top)"
   ]
  },
  {
   "cell_type": "code",
   "execution_count": 27,
   "metadata": {},
   "outputs": [
    {
     "data": {
      "image/png": "[encoded data removed]",
      "text/plain": [
       "<Figure size 432x288 with 1 Axes>"
      ]
     },
     "metadata": {
      "needs_background": "light"
     },
     "output_type": "display_data"
    },
    {
     "name": "stdout",
     "output_type": "stream",
     "text": [
      "[ 6 13 20 27 34 41 51]\n",
      "[6]\n"
     ]
    },
    {
     "data": {
      "text/plain": [
       "281474976710656"
      ]
     },
     "execution_count": 27,
     "metadata": {},
     "output_type": "execute_result"
    }
   ],
   "source": []
  },
  {
   "cell_type": "code",
   "execution_count": 137,
   "metadata": {},
   "outputs": [
    {
     "data": {
      "image/png": "[encoded data removed]",
      "text/plain": [
       "<Figure size 432x288 with 1 Axes>"
      ]
     },
     "metadata": {
      "needs_background": "light"
     },
     "output_type": "display_data"
    },
    {
     "data": {
      "image/png": "[encoded data removed]",
      "text/plain": [
       "<Figure size 432x288 with 1 Axes>"
      ]
     },
     "metadata": {
      "needs_background": "light"
     },
     "output_type": "display_data"
    }
   ],
   "source": [
    "boards = make_bitboards()\n",
    "heights = make_bitboard_heights()\n",
    "\n",
    "make_bitboard_move(boards, heights, 1, 2)\n",
    "make_bitboard_move(boards, heights, 1, 2)\n",
    "make_bitboard_move(boards, heights, 0, 2)\n",
    "make_bitboard_move(boards, heights, 1, 2)\n",
    "make_bitboard_move(boards, heights, 0, 2)\n",
    "make_bitboard_move(boards, heights, 0, 2)\n",
    "\n",
    "classboard = bitboards_to_class_board(boards)\n",
    "visualize(classboard)\n",
    "\n",
    "switch_bitboard_column(boards, heights, 1, 2, 1)\n",
    "\n",
    "classboard = bitboards_to_class_board(boards)\n",
    "visualize(classboard)\n"
   ]
  },
  {
   "cell_type": "code",
   "execution_count": 4,
   "metadata": {},
   "outputs": [
    {
     "name": "stdout",
     "output_type": "stream",
     "text": [
      "[0, 1, 2, 4, 5, 6]\n"
     ]
    },
    {
     "data": {
      "image/png": "[encoded data removed]",
      "text/plain": [
       "<Figure size 432x288 with 1 Axes>"
      ]
     },
     "metadata": {
      "needs_background": "light"
     },
     "output_type": "display_data"
    },
    {
     "name": "stdout",
     "output_type": "stream",
     "text": [
      "[56623104 75497472] [56623104 75497472]\n"
     ]
    }
   ],
   "source": [
    "boards = make_bitboards()\n",
    "heights = make_bitboard_heights()\n",
    "\n",
    "make_bitboard_move(boards, heights, 0, 3)\n",
    "make_bitboard_move(boards, heights, 0, 3)\n",
    "make_bitboard_move(boards, heights, 1, 3)\n",
    "make_bitboard_move(boards, heights, 0, 3)\n",
    "make_bitboard_move(boards, heights, 0, 3)\n",
    "make_bitboard_move(boards, heights, 1, 3)\n",
    "print(get_bitboard_moves(heights))\n",
    "\n",
    "classboard = bitboards_to_class_board(boards)\n",
    "visualize(classboard)\n",
    "\n",
    "(converted_boards, converted_heights) = class_board_to_bitboards(classboard)\n",
    "print(converted_boards, boards)\n"
   ]
  },
  {
   "cell_type": "code",
   "execution_count": 5,
   "metadata": {},
   "outputs": [
    {
     "name": "stdout",
     "output_type": "stream",
     "text": [
      "False False\n",
      "True False\n"
     ]
    },
    {
     "data": {
      "image/png": "[encoded data removed]",
      "text/plain": [
       "<Figure size 432x288 with 1 Axes>"
      ]
     },
     "metadata": {
      "needs_background": "light"
     },
     "output_type": "display_data"
    }
   ],
   "source": [
    "boards = make_bitboards()\n",
    "heights = make_bitboard_heights()\n",
    "\n",
    "make_bitboard_move(boards, heights, 0, 0)\n",
    "make_bitboard_move(boards, heights, 0, 0)\n",
    "\n",
    "make_bitboard_move(boards, heights, 1, 1)\n",
    "make_bitboard_move(boards, heights, 1, 1)\n",
    "make_bitboard_move(boards, heights, 0, 1)\n",
    "\n",
    "make_bitboard_move(boards, heights, 0, 2)\n",
    "make_bitboard_move(boards, heights, 1, 2)\n",
    "make_bitboard_move(boards, heights, 1, 2)\n",
    "make_bitboard_move(boards, heights, 0, 2)\n",
    "\n",
    "print(is_bitboard_win(boards[0]),is_bitboard_win(boards[1]))\n",
    "\n",
    "make_bitboard_move(boards, heights, 0, 3)\n",
    "make_bitboard_move(boards, heights, 1, 3)\n",
    "make_bitboard_move(boards, heights, 1, 3)\n",
    "make_bitboard_move(boards, heights, 1, 3)\n",
    "make_bitboard_move(boards, heights, 0, 3)\n",
    "\n",
    "print(is_bitboard_win(boards[0]),is_bitboard_win(boards[1]))\n",
    "\n",
    "classboard = bitboards_to_class_board(boards)\n",
    "visualize(classboard)"
   ]
  },
  {
   "cell_type": "markdown",
   "metadata": {},
   "source": [
    "Implement an agent that plays randomly. Make sure the agent function receives as the percept the board and returns a valid action."
   ]
  },
  {
   "cell_type": "code",
   "execution_count": 25,
   "metadata": {},
   "outputs": [],
   "source": [
    "import random\n",
    "\n",
    "def random_agent(boards, heights, counter):\n",
    "    moves = get_bitboard_moves(heights)\n",
    "\n",
    "    if len(moves) == 0:\n",
    "        return None\n",
    "        \n",
    "    move = np.random.choice(moves, size=1)[0]\n",
    "    return move"
   ]
  },
  {
   "cell_type": "markdown",
   "metadata": {},
   "source": [
    "Let two random agents play against each other 1000 times. Look at the [Experiments section for tic-tac-toe](https://nbviewer.org/github/mhahsler/CS7320-AI/blob/master/Games/tictactoe_and_or_tree_search.ipynb#Experiments) to see how ranom agents can play against each other.\n",
    "\n",
    "How often does each player win? Is the result expected?"
   ]
  },
  {
   "cell_type": "code",
   "execution_count": 26,
   "metadata": {},
   "outputs": [],
   "source": [
    "def play(red, yellow, N = 100):\n",
    "    \"\"\"Let two agents play each other N times. x starts. x and y are agent functions that \n",
    "    get the board as the percept and return their next action.\"\"\"\n",
    "    results = {'red': 0, 'yellow': 0, 'd': 0}\n",
    "    \n",
    "    funcs = [red, yellow]\n",
    "\n",
    "    for _ in range(N):\n",
    "        boards = make_bitboards()\n",
    "        heights = make_bitboard_heights()\n",
    "\n",
    "        counter = 0\n",
    "        while True:\n",
    "            move = funcs[counter & 1](boards, heights, counter)\n",
    "            if move is None:\n",
    "                results['d'] += 1\n",
    "                break\n",
    "\n",
    "            make_bitboard_move(boards, heights, counter, move)\n",
    "            \n",
    "            if is_bitboard_win(boards[0]):\n",
    "                results['red'] += 1\n",
    "                break\n",
    "\n",
    "            if is_bitboard_win(boards[1]):\n",
    "                results['yellow'] += 1\n",
    "                break\n",
    "            \n",
    "            counter += 1\n",
    "    \n",
    "    return results"
   ]
  },
  {
   "cell_type": "code",
   "execution_count": 28,
   "metadata": {},
   "outputs": [
    {
     "data": {
      "text/plain": [
       "{'red': 56, 'yellow': 44, 'd': 0}"
      ]
     },
     "execution_count": 28,
     "metadata": {},
     "output_type": "execute_result"
    }
   ],
   "source": [
    "play(random_agent, random_agent, N = 100)"
   ]
  },
  {
   "cell_type": "markdown",
   "metadata": {},
   "source": [
    "## Task 3: Minimax Search with Alpha-Beta Pruning [3 points]\n",
    "\n",
    "### Implement the search starting from a given board and specifying the player.\n",
    "\n",
    "You can use code from the [tic-tac-toe example](https://nbviewer.org/github/mhahsler/CS7320-AI/blob/master/Games/tictactoe_alpha_beta_tree_search.ipynb).\n"
   ]
  },
  {
   "cell_type": "markdown",
   "metadata": {},
   "source": [
    "__Note:__ The game tree for a $6 \\times 7$ board is large. You can experiment with smaller boards (the smallest is $4 \\times 4$)."
   ]
  },
  {
   "cell_type": "code",
   "execution_count": 8,
   "metadata": {},
   "outputs": [],
   "source": [
    "# Your code/ answer goes here."
   ]
  },
  {
   "cell_type": "markdown",
   "metadata": {},
   "source": [
    "Experiment with some manually created boards (at least 5) to check if the agent spots winning opportunities."
   ]
  },
  {
   "cell_type": "code",
   "execution_count": 9,
   "metadata": {},
   "outputs": [],
   "source": [
    "# Your code/ answer goes here."
   ]
  },
  {
   "cell_type": "markdown",
   "metadata": {},
   "source": [
    "How long does it take to make a move? Start with a smaller board with 4 columns and make the board larger by adding columns."
   ]
  },
  {
   "cell_type": "code",
   "execution_count": 10,
   "metadata": {},
   "outputs": [],
   "source": [
    "# Your code/ answer goes here."
   ]
  },
  {
   "cell_type": "markdown",
   "metadata": {},
   "source": [
    "### Move ordering\n",
    "\n",
    "Describe and implement a simple move ordering strategy. Make a table that shows how the ordering strategies influence the time it takes to make a move?"
   ]
  },
  {
   "cell_type": "code",
   "execution_count": 11,
   "metadata": {},
   "outputs": [],
   "source": [
    "# Your code/ answer goes here."
   ]
  },
  {
   "cell_type": "markdown",
   "metadata": {},
   "source": [
    "### The first few moves\n",
    "\n",
    "Start with an empty board. This is the worst case scenario for minimax search with alpha-beta pruning since it needs solve all possible games that can be played (minus some pruning) before making the decision. What can you do? "
   ]
  },
  {
   "cell_type": "code",
   "execution_count": 12,
   "metadata": {},
   "outputs": [],
   "source": [
    "# Your code/ answer goes here."
   ]
  },
  {
   "cell_type": "markdown",
   "metadata": {},
   "source": [
    "### Playtime\n",
    "\n",
    "Let the Minimax Search agent play a random agent on a small board. Analyze wins, losses and draws."
   ]
  },
  {
   "cell_type": "code",
   "execution_count": 13,
   "metadata": {},
   "outputs": [],
   "source": [
    "# Your code/ answer goes here."
   ]
  },
  {
   "cell_type": "markdown",
   "metadata": {},
   "source": [
    "## Task 4: Heuristic Alpha-Beta Tree Search [3 points] \n",
    "\n",
    "### Heuristic evaluation function\n",
    "\n",
    "Define and implement a heuristic evaluation function."
   ]
  },
  {
   "cell_type": "code",
   "execution_count": 14,
   "metadata": {},
   "outputs": [],
   "source": [
    "# Your code/ answer goes here."
   ]
  },
  {
   "cell_type": "markdown",
   "metadata": {},
   "source": [
    "### Cutting off search \n",
    "\n",
    "Modify your Minimax Search with Alpha-Beta Pruning to cut off search at a specified depth and use the heuristic evaluation function. Experiment with different cutoff values."
   ]
  },
  {
   "cell_type": "code",
   "execution_count": 15,
   "metadata": {},
   "outputs": [],
   "source": [
    "# Your code/ answer goes here."
   ]
  },
  {
   "cell_type": "markdown",
   "metadata": {},
   "source": [
    "Experiment with the same manually created boards as above to check if the agent spots winning opportunities."
   ]
  },
  {
   "cell_type": "code",
   "execution_count": 16,
   "metadata": {},
   "outputs": [],
   "source": [
    "# Your code/ answer goes here."
   ]
  },
  {
   "cell_type": "markdown",
   "metadata": {},
   "source": [
    "How long does it take to make a move? Start with a smaller board with 4 columns and make the board larger by adding columns."
   ]
  },
  {
   "cell_type": "code",
   "execution_count": 17,
   "metadata": {},
   "outputs": [],
   "source": [
    "# Your code/ answer goes here."
   ]
  },
  {
   "cell_type": "markdown",
   "metadata": {},
   "source": [
    "### Playtime\n",
    "\n",
    "Let two heuristic search agents (different cutoff depth, different heuristic evaluation function) compete against each other on a reasonably sized board. Since there is no randomness, you only need to let them play once."
   ]
  },
  {
   "cell_type": "code",
   "execution_count": 18,
   "metadata": {},
   "outputs": [],
   "source": [
    "# Your code/ answer goes here."
   ]
  },
  {
   "cell_type": "markdown",
   "metadata": {},
   "source": [
    "## Tournament task [+ 1 to 5 bonus point will be assigned separately]\n",
    "\n",
    "Find another student and let your best agent play against the other student's best player. You are allowed to use any improvements you like as long as you code it yourself. We will set up a class tournament on Canvas. This tournament will continue after the submission deadline."
   ]
  },
  {
   "cell_type": "markdown",
   "metadata": {},
   "source": [
    "## Graduate student advanced task: Pure Monte Carlo Search and Best First Move [1 point]\n",
    "\n",
    "__Undergraduate students:__ This is a bonus task you can attempt if you like [+1 Bonus point].\n",
    "\n",
    "### Pure Monte Carlo Search\n",
    "\n",
    "Implement Pure Monte Carlo Search (see [tic-tac-toe-example](https://nbviewer.org/github/mhahsler/CS7320-AI/blob/master/Games/tictactoe_pure_monte_carlo_search.ipynb)) and investigate how this search performs on the test boards that you have used above. "
   ]
  },
  {
   "cell_type": "code",
   "execution_count": 19,
   "metadata": {},
   "outputs": [],
   "source": [
    "# Your code/ answer goes here."
   ]
  },
  {
   "cell_type": "markdown",
   "metadata": {},
   "source": [
    "### Best First Move\n",
    "\n",
    "How would you determine what the best first move for a standard board ($6 \\times 7$) is? You can use Pure Monte Carlo Search or any algorithms that you have implemented above."
   ]
  },
  {
   "cell_type": "code",
   "execution_count": 20,
   "metadata": {},
   "outputs": [],
   "source": [
    "# Your code/ answer goes here."
   ]
  }
 ],
 "metadata": {
  "kernelspec": {
   "display_name": "Python 3 (ipykernel)",
   "language": "python",
   "name": "python3"
  },
  "language_info": {
   "codemirror_mode": {
    "name": "ipython",
    "version": 3
   },
   "file_extension": ".py",
   "mimetype": "text/x-python",
   "name": "python",
   "nbconvert_exporter": "python",
   "pygments_lexer": "ipython3",
   "version": "3.9.7"
  }
 },
 "nbformat": 4,
 "nbformat_minor": 4
}
