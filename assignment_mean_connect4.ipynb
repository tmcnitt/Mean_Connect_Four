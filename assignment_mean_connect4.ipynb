{
 "cells": [
  {
   "cell_type": "markdown",
   "metadata": {},
   "source": [
    "# Adversarial Search: Playing \"Mean\" Connect 4 - Troy McNitt\n",
    "\n",
    "\n",
    "## Instructions\n",
    "\n",
    "Total Points: Undegraduates 10, graduate students 11\n",
    "\n",
    "Complete this notebook and submit it. The notebook needs to be a complete project report with your implementation, documentation including a short discussion of how your implementation works and your design choices, and experimental results (e.g., tables and charts with simulation results) with a short discussion of what they mean. Use the provided notebook cells and insert additional code and markdown cells as needed.\n",
    "\n",
    "## Introduction\n",
    "\n",
    "You will implement different versions of agents that play \"Mean\" Connect 4:\n",
    "\n",
    "> \"Connect 4 is a two-player connection board game, in which the players choose a color and then take turns dropping colored discs into a seven-column, six-row vertically suspended grid. The pieces fall straight down, occupying the lowest available space within the column. The objective of the game is to be the first to form a horizontal, vertical, or diagonal line of four of one's own discs.\" (see [Connect Four on Wikipedia](https://en.wikipedia.org/wiki/Connect_Four))\n",
    "\n",
    "> **The mean part:** This game has an additional rule. Every time it is a player's turn, the player can decide to instead of playing a new disk, take a bottom row disk of the opponent and place it in any column. All disks above the removed disk will fall down one position. Note that a player can only move an _opponent's disc_ that is in the _bottom row_ of the board.\n",
    "\n",
    "Note that normal [Connect-4 has been solved](https://en.wikipedia.org/wiki/Connect_Four#Mathematical_solution)\n",
    "in 1988. A connect-4 solver with a discussion of how to solve different parts of the problem can be found here: https://connect4.gamesolver.org/en/"
   ]
  },
  {
   "cell_type": "markdown",
   "metadata": {},
   "source": [
    "## Task 1: Defining the Search Problem [1 point]\n",
    "\n",
    "Define the components of the search problem associated with this game:\n",
    "\n",
    "* Initial state\n",
    "* Actions\n",
    "* Transition model\n",
    "* Test for the terminal state\n",
    "* Utility for terminal states"
   ]
  },
  {
   "cell_type": "markdown",
   "metadata": {},
   "source": [
    "Initial State - We start with an empty board. \n",
    "\n",
    "Actions - We can place a piece in every column that is not full when it is our turn. Since its mean connect four, we also can take an opponents piece from the bottom row of a column and move it to another column that is not full.\n",
    "\n",
    "Test for terminal state - We need to check for 4 in a row horizontally, vertically, or diagonally. The game is a draw if every column is full or we have made 100 moves."
   ]
  },
  {
   "cell_type": "markdown",
   "metadata": {},
   "source": [
    "How big is the state space? Give an estimate and explain it."
   ]
  },
  {
   "cell_type": "markdown",
   "metadata": {},
   "source": [
    "The upper bound of the state space will be all the possible combinations of pieces on the board. For a 7x6 board that would be 42 spaces. Each space can take three possible values (red, yellow, no piece). This means the upper bound on state space is 3^42. That's a very big number! Of course, many of these states are not possible since they include several 4 in a rows that would have ended the game."
   ]
  },
  {
   "cell_type": "markdown",
   "metadata": {},
   "source": [
    "How big is the game tree that minimax search will go through? Give an estimate and explain it."
   ]
  },
  {
   "cell_type": "markdown",
   "metadata": {},
   "source": [
    "Min max, without alpha beta pruning, will need to explore all possible paths. This means we can compute the size of the upper bound of the search by the formula O(b^d) where b is the branching factor and d is the depth. For noral connect four, the branching factor is 7 (each column). However as a worse case in mean connect four, the player could move a piece from each column (7) to any other column (6). That equals another 42 possible moves. This means our worst case branching factor is 49. For depth, in normal connect four it would just be 7*6 since the board would fill up. However since the mean moves allow moves that do not place any pieces, it could be up 100 moves before a draw is deeclared.  That means the game tree would be size 49^100.. This means we will never be able to solve the game with minmax search."
   ]
  },
  {
   "cell_type": "markdown",
   "metadata": {},
   "source": [
    "## Task 2: Game Environment and Random Agent [3 point]\n",
    "\n",
    "You can use a numpy character array as the board. Note that the following function can create boards of different sizes."
   ]
  },
  {
   "cell_type": "markdown",
   "metadata": {},
   "source": [
    "Instead of colors (red and yellow), you can use 1 and -1 to represent the players Max and Min. Make sure that your agent functions all have the from: `agent_type(board, player = 1)`, where board is the current board position and player is the player (1, -1) whose next move it is and who the agent should play."
   ]
  },
  {
   "cell_type": "markdown",
   "metadata": {},
   "source": [
    "Visualization code by Randolph Rankin:"
   ]
  },
  {
   "cell_type": "code",
   "execution_count": 1,
   "metadata": {
    "scrolled": true
   },
   "outputs": [
    {
     "data": {
      "image/png": "[encoded data removed]",
      "text/plain": [
       "<Figure size 432x288 with 1 Axes>"
      ]
     },
     "metadata": {
      "needs_background": "light"
     },
     "output_type": "display_data"
    }
   ],
   "source": [
    "import matplotlib.pyplot as plt\n",
    "import numpy as np \n",
    "\n",
    "def visualize(board):\n",
    "    plt.axes()\n",
    "    rectangle=plt.Rectangle((-0.5,len(board)*-1+0.5),len(board[0]),len(board),fc='blue')\n",
    "    circles=[]\n",
    "    for i,row in enumerate(board):\n",
    "        for j,val in enumerate(row):\n",
    "            color='white' if val==0 else 'red' if val==1 else 'yellow'\n",
    "            circles.append(plt.Circle((j,i*-1),0.4,fc=color))\n",
    "\n",
    "    plt.gca().add_patch(rectangle)\n",
    "    for circle in circles:\n",
    "        plt.gca().add_patch(circle)\n",
    "\n",
    "    plt.axis('scaled')\n",
    "    plt.show()\n",
    "    \n",
    "board = [[0, 0, 0, 0, 0, 0, 0],\n",
    "         [0, 0, 0, 0, 0, 0, 0],\n",
    "         [0, 0, 0, 0, 0, 0, 0],\n",
    "         [0, 0, 0, 1, 0, 0, 0],\n",
    "         [0, 0, 0, 1, 0, 0, 0],\n",
    "         [0,-1,-1, 1,-1, 0, 0]]\n",
    "\n",
    "visualize(board)"
   ]
  },
  {
   "cell_type": "markdown",
   "metadata": {},
   "source": [
    "Implement helper functions for:\n",
    "\n",
    "* The transition model $results(s, a)$.\n",
    "* The utility function $utility(s)$.\n",
    "* Check for terminal states $terminal(s)$.\n",
    "* A check for available actions in each state $actions(s)$.\n",
    "\n",
    "Make sure that all these functions work with boards of different sizes (number of columns and rows)."
   ]
  },
  {
   "cell_type": "markdown",
   "metadata": {},
   "source": [
    "There is a smart way to represent a connect four game by John Tromp. His website can be found [here](https://tromp.github.io). Professor Herzberg is a professor at the Technische Hochschule Mittelhessen and wrote a great explanation of Tromp's code and published it on [github](https://github.com/denkspuren/BitboardC4/blob/master/BitboardDesign.md). \n",
    "\n",
    "It is based on storing a players move as a bitboard, which is nothing more than an unsigned 64 bit integer. The assignment of what position corresponds to what bit is shown below. With these positions, you can use bit operations to determine if a player has won. This mapping also make it easy to see if a column can take any more pieces and is a valid next move. He also writes about keeping track of the heights for each column, so that the state transition is fast. I took the psuedocode and implemented it in python below.\n",
    "\n",
    "~~~\n",
    "\n",
    " 6 13 20 27 34 41 48   55 62     Additional row\n",
    "+---------------------+ \n",
    "| 5 12 19 26 33 40 47 | 54 61     top row\n",
    "| 4 11 18 25 32 39 46 | 53 60\n",
    "| 3 10 17 24 31 38 45 | 52 59\n",
    "| 2  9 16 23 30 37 44 | 51 58\n",
    "| 1  8 15 22 29 36 43 | 50 57\n",
    "| 0  7 14 21 28 35 42 | 49 56 63  bottom row\n",
    "+---------------------+\n",
    "~~~\n",
    "\n",
    "Since this format is very different than how it is stored above, I created functions to convert to and from the bitboard format. Using numba JIT compilation, I'm able to achieve a 5x speedup over the python native implementation. I also added the mean twist to all the different functions to make it work with the rules of the game."
   ]
  },
  {
   "cell_type": "code",
   "execution_count": 2,
   "metadata": {},
   "outputs": [],
   "source": [
    "from numba.experimental import jitclass\n",
    "from numba import njit\n",
    "from numba import uint64, boolean\n",
    "\n",
    "spec = [\n",
    "    ('HEIGHT', uint64),              \n",
    "    ('WIDTH', uint64),       \n",
    "    ('H1', uint64),      \n",
    "    ('H2', uint64),  \n",
    "    ('SIZE1', uint64),         \n",
    "    ('COL1', uint64),         \n",
    "    ('ALL1', uint64),         \n",
    "    ('BOTTOM', uint64),         \n",
    "    ('TOP', uint64),         \n",
    "    ('FULL', uint64), \n",
    "    ('heights', uint64[:]),  \n",
    "    ('boards', uint64[:]),     \n",
    "    ('player_one_mean', boolean),\n",
    "    ('player_two_mean', boolean)    \n",
    "]\n",
    "\n",
    "@jitclass(spec)\n",
    "class Bitboard():\n",
    "\n",
    "    def setup_params(self, width, height):\n",
    "        self.HEIGHT = np.uint64(height)\n",
    "        self.WIDTH = np.uint64(width)\n",
    "        self.H1 = np.uint64(self.HEIGHT+1)\n",
    "        self.H2 = np.uint64(self.HEIGHT+2)\n",
    "        self.SIZE1 = np.uint64(self.H1*self.WIDTH)\n",
    "        self.COL1 = np.uint64((np.uint64(1)<<self.H1)-np.uint64(1))\n",
    "        self.ALL1 = np.uint64((np.uint64(1)<<self.SIZE1)-np.uint64(1))\n",
    "        self.BOTTOM = np.uint64(self.ALL1 / self.COL1) \n",
    "        self.TOP  = (self.BOTTOM << self.HEIGHT)\n",
    "        self.FULL = (self.BOTTOM << (self.HEIGHT-np.uint64(1)))\n",
    "\n",
    "\n",
    "\n",
    "    def __init__(self, width, height, boards=None, heights=None, player_one_mean=True, player_two_mean=True):\n",
    "        self.setup_params(width, height)\n",
    "\n",
    "        self.player_one_mean = player_one_mean\n",
    "        self.player_two_mean = player_two_mean\n",
    "        \n",
    "        if heights is not None:\n",
    "            self.heights = heights.copy()\n",
    "        else:\n",
    "            self.heights = np.zeros(shape=self.WIDTH, dtype=np.uint64)\n",
    "            self.make_bitboard_heights()\n",
    "\n",
    "        if boards is not None:\n",
    "            self.boards = boards.copy()\n",
    "        else:\n",
    "            self.boards = np.array([np.uint64(0), np.uint64(0)])\n",
    "\n",
    "    def copy(self):\n",
    "        return Bitboard(self.WIDTH, self.HEIGHT, self.boards, self.heights, self.player_one_mean, self.player_two_mean)\n",
    "\n",
    "    def make_bitboard_heights(self):\n",
    "        for i in range(self.WIDTH):\n",
    "            self.heights[i] = i*self.H1\n",
    "\n",
    "    def shift_pieces_down(self, index, col):\n",
    "        old_col_starting_height = col*self.H1\n",
    "\n",
    "        # Get all the values for this column\n",
    "        column = self.COL1 << old_col_starting_height\n",
    "        curr_column_values = self.boards[index] & column\n",
    "\n",
    "        # Clear them all\n",
    "        self.boards[index] ^= curr_column_values\n",
    "\n",
    "        # Clear out the one we pushed off the board\n",
    "        curr_column_values &= ~(np.uint64(1) << old_col_starting_height)\n",
    "\n",
    "        # Set them to the shifted version\n",
    "        self.boards[index] ^= curr_column_values >> np.uint64(1)\n",
    "\n",
    "\n",
    "    def make_normal_bitboard_move(self, counter, col):\n",
    "        # Using the column, shift it to the right position\n",
    "        update = np.uint64(1) << self.heights[col]\n",
    "\n",
    "        # Keep track of the height for next time\n",
    "        self.heights[col] += 1\n",
    "\n",
    "        # Set this bit on the board\n",
    "        self.boards[counter & 1] ^= update\n",
    "\n",
    "\n",
    "    def make_mean_bitboard_move(self, counter, old_col, new_col):\n",
    "        # Shift both boards down in that column\n",
    "        self.shift_pieces_down(0, old_col)\n",
    "        self.shift_pieces_down(1, old_col)\n",
    "        self.heights[old_col] -= 1\n",
    "\n",
    "        # Place the piece in the old column\n",
    "        # Note we shift counter since its an opponent piece\n",
    "        self.make_normal_bitboard_move(int(not (counter & 1)), new_col)\n",
    "\n",
    "    def make_move(self, counter, move):\n",
    "        if(move < 10):\n",
    "            self.make_normal_bitboard_move(counter & 1, move-1)\n",
    "        else:\n",
    "            from_col = move // 10\n",
    "            to_col = move % 10\n",
    "            self.make_mean_bitboard_move(counter & 1, from_col-1, to_col-1)\n",
    "\n",
    "\n",
    "    def get_actions(self, counter):\n",
    "        moves = []\n",
    "\n",
    "        for col in range(self.WIDTH):\n",
    "            if self.isplayable_normal(col):\n",
    "                moves.append(col+1)\n",
    "        \n",
    "        \n",
    "        if (counter & 1) == 0:\n",
    "            if not self.player_one_mean: \n",
    "                return moves\n",
    "        else:\n",
    "            if not self.player_two_mean:\n",
    "                return moves\n",
    "        \n",
    "        for start in range(self.WIDTH):\n",
    "            for end in range(self.WIDTH):\n",
    "                if start == end:\n",
    "                    continue\n",
    "            \n",
    "                if self.isplayable_mean(counter, start, end):\n",
    "                    num = ((start+1)*10) + (end+1)\n",
    "                    moves.append(num)\n",
    "\n",
    "        return moves\n",
    "\n",
    "    def is_full(self):\n",
    "        return self.FULL == (self.FULL & (self.boards[0] | self.boards[1]))\n",
    "\n",
    "    def is_bitboard_win(self, index):\n",
    "        board = self.boards[index]\n",
    "\n",
    "        # diagonal \\\n",
    "        diag1 = board & (board >> self.HEIGHT)\n",
    "\n",
    "        # diagonal /\n",
    "        diag2 = board & (board >> self.H2)\n",
    "\n",
    "        # horizontal\n",
    "        hori = board & (board >> self.H1)\n",
    "\n",
    "        # vertical\n",
    "        vert = board & (board >> np.uint64(1))\n",
    "\n",
    "        return ((diag1 & (diag1 >> 2*self.HEIGHT)) |\n",
    "            (hori & (hori >> 2*self.H1)) |\n",
    "            (diag2 & (diag2 >> 2*self.H2)) |\n",
    "            (vert & (vert >> 2))) != 0\n",
    "\n",
    "    def is_bitboard_3_in_a_row(self, index):\n",
    "        board = self.boards[index]\n",
    "\n",
    "        # diagonal \\\n",
    "        diag1 = board & (board >> (self.HEIGHT))\n",
    "\n",
    "        # diagonal /\n",
    "        diag2 = board & (board >> (self.H2))\n",
    "\n",
    "        # horizontal\n",
    "        hori = board & (board >> (self.H1))\n",
    "\n",
    "        # vertical\n",
    "        vert = board & (board >> np.uint64(1))\n",
    "\n",
    "        return ((diag1 & (diag1 >> self.HEIGHT)) |\n",
    "            (hori & (hori >> self.H1)) |\n",
    "            (diag2 & (diag2 >> self.H2)) |\n",
    "            (vert & (vert >> 1))) != 0\n",
    "        #return (vert & (vert >> 2))\n",
    "        \n",
    "    def isplayable_normal(self, column):\n",
    "        return (self.TOP & (np.uint64(1) << self.heights[column])) == 0\n",
    "\n",
    "    def isplayable_mean(self, counter, from_col, end_col):\n",
    "        other_board = int(not (counter & 1))\n",
    "\n",
    "        pos = np.uint64(1) << (np.uint64(from_col)*self.H1)\n",
    "        if (self.boards[other_board] & pos) == 0:\n",
    "            return False\n",
    "        \n",
    "        return self.isplayable_normal(end_col)\n",
    "\n",
    "    def get_transposition_key(self, move_num):\n",
    "        return self.boards[move_num & 1] + self.boards[0] + self.boards[1] + self.BOTTOM\n",
    "    \n",
    "    def bitboards_to_class_board(self):\n",
    "        red_board = self.boards[0]\n",
    "        yellow_board = self.boards[1]\n",
    "\n",
    "        classboard = np.zeros(shape=(self.HEIGHT, self.WIDTH), dtype=np.int32)\n",
    "\n",
    "        for row in range(self.HEIGHT):\n",
    "            for col in range(7):\n",
    "                bit = np.uint64(1) << (np.uint8(self.H1*col)+np.uint64(row))\n",
    "\n",
    "                # If there is piece there, update class board\n",
    "                if (red_board & bit) != 0:\n",
    "                    classboard[int(self.HEIGHT)-row-1][col] = 1\n",
    "\n",
    "                # Same but with other board\n",
    "                if (yellow_board & bit) != 0:\n",
    "                    classboard[int(self.HEIGHT)-row-1][col] = -1\n",
    "\n",
    "        return classboard\n",
    "\n",
    "\n",
    "def class_board_to_bitboards(classboard):\n",
    "    height = classboard.shape[0]\n",
    "    width = classboard.shape[1]\n",
    "\n",
    "    board = Bitboard(height, width)\n",
    "\n",
    "    for row in range(int(height)-1, -1, -1):\n",
    "        for col in range(width):\n",
    "            cpiece = classboard[row][col]\n",
    "            if cpiece == 1:\n",
    "                board.make_normal_bitboard_move(0, col)\n",
    "            if cpiece == -1:\n",
    "                board.make_normal_bitboard_move(1, col)\n",
    "\n",
    "    return board\n"
   ]
  },
  {
   "cell_type": "markdown",
   "metadata": {},
   "source": [
    "The above code supports the regular and mean moves at varying board sizes."
   ]
  },
  {
   "cell_type": "code",
   "execution_count": 3,
   "metadata": {},
   "outputs": [
    {
     "data": {
      "image/png": "[encoded data removed]",
      "text/plain": [
       "<Figure size 432x288 with 1 Axes>"
      ]
     },
     "metadata": {
      "needs_background": "light"
     },
     "output_type": "display_data"
    },
    {
     "data": {
      "image/png": "[encoded data removed]",
      "text/plain": [
       "<Figure size 432x288 with 1 Axes>"
      ]
     },
     "metadata": {
      "needs_background": "light"
     },
     "output_type": "display_data"
    }
   ],
   "source": [
    "board = Bitboard(7, 6)\n",
    "\n",
    "board.make_move(0, 1)\n",
    "board.make_move(1, 2)\n",
    "board.make_move(0, 1)\n",
    "\n",
    "visualize(board.bitboards_to_class_board())\n",
    "\n",
    "board.make_move(1, 12)\n",
    "\n",
    "visualize(board.bitboards_to_class_board())"
   ]
  },
  {
   "cell_type": "markdown",
   "metadata": {},
   "source": [
    "Implement an agent that plays randomly. Make sure the agent function receives as the percept the board and returns a valid action."
   ]
  },
  {
   "cell_type": "code",
   "execution_count": 4,
   "metadata": {},
   "outputs": [],
   "source": [
    "@njit()\n",
    "def random_agent(board, counter):\n",
    "    moves = np.array(board.get_actions(counter))\n",
    "\n",
    "    if len(moves) == 0:\n",
    "        return None\n",
    "        \n",
    "    move = np.random.choice(moves, size=1)[0]\n",
    "    return move"
   ]
  },
  {
   "cell_type": "markdown",
   "metadata": {},
   "source": [
    "Let two random agents play against each other 1000 times. Look at the [Experiments section for tic-tac-toe](https://nbviewer.org/github/mhahsler/CS7320-AI/blob/master/Games/tictactoe_and_or_tree_search.ipynb#Experiments) to see how ranom agents can play against each other.\n",
    "\n",
    "How often does each player win? Is the result expected?"
   ]
  },
  {
   "cell_type": "code",
   "execution_count": 5,
   "metadata": {},
   "outputs": [],
   "source": [
    "def play(red, yellow, N = 100, pomm=True, ptwmm=True):\n",
    "    results = {'red': 0, 'yellow': 0, 'd': 0}\n",
    "    \n",
    "    funcs = [red, yellow]\n",
    "\n",
    "    for _ in range(N):\n",
    "        board = Bitboard(7, 6, player_one_mean=pomm, player_two_mean=ptwmm)\n",
    "\n",
    "        for move_num in range(100):\n",
    "            func = funcs[move_num & 1]\n",
    "\n",
    "            move = func(board, move_num)\n",
    "\n",
    "            if move is None:\n",
    "                results['d'] += 1\n",
    "                break\n",
    "\n",
    "            board.make_move(int(move_num), int(move))\n",
    "            \n",
    "            if board.is_bitboard_win(0):\n",
    "                results['red'] += 1\n",
    "                break\n",
    "\n",
    "            if board.is_bitboard_win(1):\n",
    "                results['yellow'] += 1\n",
    "                break\n",
    "        \n",
    "        if move_num == 99:\n",
    "            results['d'] += 1\n",
    "    \n",
    "    return results"
   ]
  },
  {
   "cell_type": "code",
   "execution_count": 6,
   "metadata": {},
   "outputs": [
    {
     "data": {
      "text/plain": [
       "{'red': 772, 'yellow': 228, 'd': 0}"
      ]
     },
     "execution_count": 6,
     "metadata": {},
     "output_type": "execute_result"
    }
   ],
   "source": [
    "play(random_agent, random_agent, 1_000)"
   ]
  },
  {
   "cell_type": "markdown",
   "metadata": {},
   "source": [
    "Looking at the above results, it looks like player one has a huge advantage over player two. To see how this compares to just regular connect four without the mean moves, I ran that as well below."
   ]
  },
  {
   "cell_type": "code",
   "execution_count": 7,
   "metadata": {},
   "outputs": [
    {
     "data": {
      "text/plain": [
       "{'red': 537, 'yellow': 462, 'd': 1}"
      ]
     },
     "execution_count": 7,
     "metadata": {},
     "output_type": "execute_result"
    }
   ],
   "source": [
    "play(random_agent, random_agent, 1_000, False, False)"
   ]
  },
  {
   "cell_type": "markdown",
   "metadata": {},
   "source": [
    "So yes, player one seems to have an even bigger advantage than player two in mean connect four."
   ]
  },
  {
   "cell_type": "code",
   "execution_count": 8,
   "metadata": {},
   "outputs": [
    {
     "data": {
      "text/plain": [
       "{'red': 984, 'yellow': 16, 'd': 0}"
      ]
     },
     "execution_count": 8,
     "metadata": {},
     "output_type": "execute_result"
    }
   ],
   "source": [
    "play(random_agent, random_agent, 1_000, False, True)"
   ]
  },
  {
   "cell_type": "markdown",
   "metadata": {},
   "source": [
    "Not allowing player one to use mean moves but allowing player two to use them made player one almost never lose. This shows that mean moves should almost never be used."
   ]
  },
  {
   "cell_type": "markdown",
   "metadata": {},
   "source": [
    "## Task 3: Minimax Search with Alpha-Beta Pruning [3 points]\n",
    "\n",
    "### Implement the search starting from a given board and specifying the player.\n",
    "\n",
    "You can use code from the [tic-tac-toe example](https://nbviewer.org/github/mhahsler/CS7320-AI/blob/master/Games/tictactoe_alpha_beta_tree_search.ipynb).\n"
   ]
  },
  {
   "cell_type": "markdown",
   "metadata": {},
   "source": [
    "__Note:__ The game tree for a $6 \\times 7$ board is large. You can experiment with smaller boards (the smallest is $4 \\times 4$)."
   ]
  },
  {
   "cell_type": "markdown",
   "metadata": {},
   "source": [
    "To make my minmax implementation more efficient, I realized that the minimum move for one player is the maximum move for another. This way, we can implement only one function and just invert the value. This is just a semantic change, and is the same algorithm.\n",
    "\n",
    "To make it even more efficient, I use whats called a transposition table. This is basically a cache so we do not have to recompute a board more than once. John Tromp demonstrated that with his bitboard idea, you could store the board as a 56 bit key. To keep things efficient, we keep the table limited to 64MB and use LIFO removal policy."
   ]
  },
  {
   "cell_type": "code",
   "execution_count": 9,
   "metadata": {},
   "outputs": [],
   "source": [
    "TRANSPOSITION_SIZE = 8388593 #64MB transposition table\n",
    "\n",
    "def alpha_beta_search(board, counter=0, depth=20):\n",
    "    \"\"\"start the search.\"\"\"\n",
    "    transposition_keys = np.zeros(shape=(TRANSPOSITION_SIZE+1),dtype=np.uint64)\n",
    "    transposition_vals = np.zeros(shape=(TRANSPOSITION_SIZE+1),dtype=np.int8)\n",
    "\n",
    "    value, move = min_max_search(board, counter, -1, 1, depth, transposition_keys, transposition_vals)\n",
    "\n",
    "    return { \"value\": value, \"move\": move }\n",
    "\n",
    "@njit()\n",
    "def min_max_search(board, move_num, alpha, beta, depth, transposition_keys, transposition_vals):\n",
    "    # Check for give up state\n",
    "    if board.is_full() or depth == 0:\n",
    "        return 0, None\n",
    "\n",
    "    # Check if we have already computed this board\n",
    "    key = board.get_transposition_key(move_num)\n",
    "    index = key % TRANSPOSITION_SIZE\n",
    "    val = transposition_vals[index]\n",
    "\n",
    "    if transposition_keys[index] == key:\n",
    "        # We found lowerbound, tighten our search\n",
    "        alpha = max(alpha, val)\n",
    "\n",
    "    if alpha >= beta:\n",
    "        return alpha, None\n",
    "    \n",
    "    # Check if any immediate move could lead to terminal state\n",
    "    for a in board.get_actions(move_num):\n",
    "        a_board = board.copy()\n",
    "        a_board.make_move(move_num, a)\n",
    "\n",
    "        if a_board.is_bitboard_win(move_num & 1):\n",
    "            return 1, a\n",
    "\n",
    "        if a_board.is_bitboard_win(int(not(move_num & 1))):\n",
    "            return -1, a\n",
    "    \n",
    "    #Depen the search\n",
    "    move = None\n",
    "    \n",
    "    for a in board.get_actions(move_num):\n",
    "        a_board = board.copy()\n",
    "        a_board.make_move(move_num, a)\n",
    "\n",
    "        # By calling the same method swapping beta and alpha represents the min move\n",
    "        # This means we only have to write one funciton! Cool!\n",
    "        score, _ = min_max_search(a_board, move_num + 1, -beta,-alpha, depth-1, transposition_keys, transposition_vals)\n",
    "\n",
    "        # And we can just invert the score at the end\n",
    "        # This is because the best move for them is the worst move for us\n",
    "        score = -score\n",
    "\n",
    "        # Check if we have escaped window\n",
    "        if score >= beta:\n",
    "            # We're done, prune the rest\n",
    "            return score, a\n",
    "\n",
    "        # Update alpha always to shrink upperbound\n",
    "        if score > alpha: \n",
    "            alpha = score\n",
    "            move = a\n",
    "    \n",
    "    # Update the lower bound for this state\n",
    "    # We could also update exact and upper bound\n",
    "    # But seems to be less used\n",
    "    key = board.get_transposition_key(move_num)\n",
    "    index = key % TRANSPOSITION_SIZE\n",
    "    transposition_keys[index] = key\n",
    "    transposition_vals[index] = alpha\n",
    "\n",
    "    return alpha, move"
   ]
  },
  {
   "cell_type": "markdown",
   "metadata": {},
   "source": [
    "Experiment with some manually created boards (at least 5) to check if the agent spots winning opportunities."
   ]
  },
  {
   "cell_type": "markdown",
   "metadata": {},
   "source": [
    "Note that I increment all the moves by one. So move 1 equals placing a piece in the column \"0\". This way, I can represent mean moves as number greater than 10. For example, move 14 would mean moving a piece from column oen to column four."
   ]
  },
  {
   "cell_type": "code",
   "execution_count": 11,
   "metadata": {},
   "outputs": [
    {
     "data": {
      "image/png": "[encoded data removed]",
      "text/plain": [
       "<Figure size 432x288 with 1 Axes>"
      ]
     },
     "metadata": {
      "needs_background": "light"
     },
     "output_type": "display_data"
    },
    {
     "data": {
      "text/plain": [
       "{'value': 1, 'move': 1}"
      ]
     },
     "execution_count": 11,
     "metadata": {},
     "output_type": "execute_result"
    }
   ],
   "source": [
    "board = Bitboard(7, 6)\n",
    "\n",
    "board.make_move(0, 1)\n",
    "board.make_move(1, 2)\n",
    "board.make_move(0, 1)\n",
    "board.make_move(1, 2)\n",
    "board.make_move(0, 1)\n",
    "board.make_move(1, 2)\n",
    "\n",
    "classboard = board.bitboards_to_class_board()\n",
    "visualize(classboard)\n",
    "\n",
    "alpha_beta_search(board)"
   ]
  },
  {
   "cell_type": "code",
   "execution_count": 12,
   "metadata": {},
   "outputs": [
    {
     "data": {
      "image/png": "[encoded data removed]",
      "text/plain": [
       "<Figure size 432x288 with 1 Axes>"
      ]
     },
     "metadata": {
      "needs_background": "light"
     },
     "output_type": "display_data"
    },
    {
     "data": {
      "text/plain": [
       "{'value': 1, 'move': 4}"
      ]
     },
     "execution_count": 12,
     "metadata": {},
     "output_type": "execute_result"
    }
   ],
   "source": [
    "board = Bitboard(7, 6)\n",
    "\n",
    "board.make_move(0, 1)\n",
    "board.make_move(1, 1)\n",
    "board.make_move(0, 2)\n",
    "board.make_move(1, 2)\n",
    "board.make_move(0, 3)\n",
    "board.make_move(1, 3)\n",
    "\n",
    "\n",
    "classboard = board.bitboards_to_class_board()\n",
    "visualize(classboard)\n",
    "\n",
    "alpha_beta_search(board)"
   ]
  },
  {
   "cell_type": "code",
   "execution_count": 13,
   "metadata": {},
   "outputs": [
    {
     "data": {
      "image/png": "[encoded data removed]",
      "text/plain": [
       "<Figure size 432x288 with 1 Axes>"
      ]
     },
     "metadata": {
      "needs_background": "light"
     },
     "output_type": "display_data"
    },
    {
     "data": {
      "text/plain": [
       "{'value': 1, 'move': 4}"
      ]
     },
     "execution_count": 13,
     "metadata": {},
     "output_type": "execute_result"
    }
   ],
   "source": [
    "board = Bitboard(7, 6)\n",
    "\n",
    "board.make_move(0, 1)\n",
    "board.make_move(1, 2)\n",
    "board.make_move(0, 2)\n",
    "board.make_move(1, 3)\n",
    "board.make_move(1, 3)\n",
    "board.make_move(1, 4)\n",
    "board.make_move(0, 3)\n",
    "board.make_move(1, 6)\n",
    "board.make_move(0, 4)\n",
    "board.make_move(1, 4)\n",
    "\n",
    "classboard = board.bitboards_to_class_board()\n",
    "visualize(classboard)\n",
    "\n",
    "alpha_beta_search(board)"
   ]
  },
  {
   "cell_type": "code",
   "execution_count": 14,
   "metadata": {},
   "outputs": [
    {
     "data": {
      "image/png": "[encoded data removed]",
      "text/plain": [
       "<Figure size 432x288 with 1 Axes>"
      ]
     },
     "metadata": {
      "needs_background": "light"
     },
     "output_type": "display_data"
    },
    {
     "data": {
      "text/plain": [
       "{'value': 1, 'move': 3}"
      ]
     },
     "execution_count": 14,
     "metadata": {},
     "output_type": "execute_result"
    }
   ],
   "source": [
    "board = Bitboard(7,6)\n",
    "\n",
    "board.make_move(0, 7-1)\n",
    "board.make_move(1, 7-2)\n",
    "board.make_move(0, 7-2)\n",
    "board.make_move(1, 7-3)\n",
    "board.make_move(1, 7-3)\n",
    "board.make_move(1, 7-4)\n",
    "board.make_move(0, 7-3)\n",
    "board.make_move(1, 7-6)\n",
    "board.make_move(0, 7-4)\n",
    "board.make_move(1, 7-4)\n",
    "\n",
    "\n",
    "classboard = board.bitboards_to_class_board()\n",
    "visualize(classboard)\n",
    "\n",
    "alpha_beta_search(board)"
   ]
  },
  {
   "cell_type": "code",
   "execution_count": 12,
   "metadata": {},
   "outputs": [
    {
     "data": {
      "image/png": "[encoded data removed]",
      "text/plain": [
       "<Figure size 432x288 with 1 Axes>"
      ]
     },
     "metadata": {
      "needs_background": "light"
     },
     "output_type": "display_data"
    },
    {
     "data": {
      "text/plain": [
       "{'value': 1, 'move': 4}"
      ]
     },
     "execution_count": 12,
     "metadata": {},
     "output_type": "execute_result"
    }
   ],
   "source": [
    "board = Bitboard(6,6, player_one_mean=False, player_two_mean=False)\n",
    "\n",
    "board.make_move(0, 1)\n",
    "board.make_move(1, 6)\n",
    "board.make_move(0, 2)\n",
    "board.make_move(1, 5)\n",
    "board.make_move(0, 3)\n",
    "board.make_move(1, 5)\n",
    "\n",
    "classboard = board.bitboards_to_class_board()\n",
    "visualize(classboard)\n",
    "\n",
    "alpha_beta_search(board, depth=22)"
   ]
  },
  {
   "cell_type": "markdown",
   "metadata": {},
   "source": [
    "From the above, we can see it can recognize easy winning moves."
   ]
  },
  {
   "cell_type": "markdown",
   "metadata": {},
   "source": [
    "How long does it take to make a move? Start with a smaller board with 4 columns and make the board larger by adding columns."
   ]
  },
  {
   "cell_type": "markdown",
   "metadata": {},
   "source": [
    "Unfortunately even on a 4x4 board, there are simply too many mean moves to simulate in a reasonable amount of time. However, I can simulate if player one can not use mean moves but player two can. I really wanted to be able to simulate the mean moves and went as far as to rewrite the code in C++ and run it on the lyle genuse servers, but even that was no match for the mean move branching factor."
   ]
  },
  {
   "cell_type": "code",
   "execution_count": 11,
   "metadata": {},
   "outputs": [
    {
     "data": {
      "image/png": "[encoded data removed]",
      "text/plain": [
       "<Figure size 432x288 with 1 Axes>"
      ]
     },
     "metadata": {
      "needs_background": "light"
     },
     "output_type": "display_data"
    },
    {
     "data": {
      "text/plain": [
       "{'value': -1, 'move': None}"
      ]
     },
     "execution_count": 11,
     "metadata": {},
     "output_type": "execute_result"
    }
   ],
   "source": [
    "board = Bitboard(4,6, player_one_mean=False, player_two_mean=True)\n",
    "\n",
    "classboard = board.bitboards_to_class_board()\n",
    "visualize(classboard)\n",
    "\n",
    "alpha_beta_search(board)"
   ]
  },
  {
   "cell_type": "markdown",
   "metadata": {},
   "source": [
    "In 30 seconds we can compute the result of the 4x6 board from the starting position. Regardless of our move, we will lose as the first player. This is becuase we aren't using any mean moves."
   ]
  },
  {
   "cell_type": "code",
   "execution_count": 36,
   "metadata": {},
   "outputs": [
    {
     "data": {
      "image/png": "[encoded data removed]",
      "text/plain": [
       "<Figure size 432x288 with 1 Axes>"
      ]
     },
     "metadata": {
      "needs_background": "light"
     },
     "output_type": "display_data"
    },
    {
     "data": {
      "text/plain": [
       "{'value': -1, 'move': 1}"
      ]
     },
     "execution_count": 36,
     "metadata": {},
     "output_type": "execute_result"
    }
   ],
   "source": [
    "board = Bitboard(5,6, player_one_mean=False, player_two_mean=True)\n",
    "\n",
    "classboard = board.bitboards_to_class_board()\n",
    "visualize(classboard)\n",
    "\n",
    "alpha_beta_search(board)"
   ]
  },
  {
   "cell_type": "markdown",
   "metadata": {},
   "source": [
    "It takes us 3 and a half minutes to compute the 5x6 board while allowing mean moves only for the second player. This shows how quickly the solve time increases as board size increases. I could not solve the 6x6 in a reasonable amount of time."
   ]
  },
  {
   "cell_type": "markdown",
   "metadata": {},
   "source": [
    "### Move ordering\n",
    "\n",
    "Describe and implement a simple move ordering strategy. Make a table that shows how the ordering strategies influence the time it takes to make a move?"
   ]
  },
  {
   "cell_type": "code",
   "execution_count": 13,
   "metadata": {},
   "outputs": [],
   "source": [
    "@njit()\n",
    "def left_to_right(board, counter):\n",
    "    return np.sort(np.array(board.get_actions(counter)))\n",
    "\n",
    "@njit()\n",
    "def right_to_left(board, counter):\n",
    "    return np.sort(np.array(board.get_actions(counter)))[::-1]\n",
    "    \n",
    "@njit()\n",
    "def center_first(board, counter):\n",
    "    moves = np.array(board.get_actions(counter))\n",
    "    mid = board.WIDTH / 2\n",
    "    dist_to_mid = np.abs(moves - mid)\n",
    "    \n",
    "    return moves[np.argsort(dist_to_mid)]"
   ]
  },
  {
   "cell_type": "code",
   "execution_count": 14,
   "metadata": {},
   "outputs": [],
   "source": [
    "@njit()\n",
    "def alpha_beta_search_move_order(board, move_order_func, counter=0, depth=20):\n",
    "    \"\"\"start the search.\"\"\"\n",
    "    transposition_keys = np.zeros(shape=(TRANSPOSITION_SIZE+1),dtype=np.uint64)\n",
    "    transposition_vals = np.zeros(shape=(TRANSPOSITION_SIZE+1),dtype=np.int8)\n",
    "\n",
    "    value, move = min_max_search_move_order(board, counter, -1, 1, depth, transposition_keys, transposition_vals, move_order_func)\n",
    "\n",
    "    return { \"value\": value, \"move\": move }\n",
    "\n",
    "@njit()\n",
    "def min_max_search_move_order(board, move_num, alpha, beta, depth, transposition_keys, transposition_vals, move_order_func):\n",
    "    # Check for terminal state\n",
    "    if board.is_full() or depth == 0:\n",
    "        return 0, -1\n",
    "\n",
    "    # Check if we have already computed this board\n",
    "    key = board.get_transposition_key(move_num)\n",
    "    index = key % TRANSPOSITION_SIZE\n",
    "    val = transposition_vals[index]\n",
    "\n",
    "    if transposition_keys[index] == key:\n",
    "        # We found lowerbound, tighten our search\n",
    "        alpha = max(alpha, val)\n",
    "\n",
    "    if alpha >= beta:\n",
    "        return alpha, -1\n",
    "    \n",
    "    # Check if any immediate move could lead to terminal state\n",
    "    for a in move_order_func(board, move_num):\n",
    "        a_board = board.copy()\n",
    "        a_board.make_move(move_num, a)\n",
    "\n",
    "        if a_board.is_bitboard_win(move_num & 1):\n",
    "            return 1, a\n",
    "\n",
    "        if a_board.is_bitboard_win(int(not(move_num & 1))):\n",
    "            return -1, a\n",
    "    \n",
    "    #Depen the search\n",
    "    move = -1\n",
    "    \n",
    "    for a in move_order_func(board, move_num):\n",
    "        a_board = board.copy()\n",
    "        a_board.make_move(move_num, a)\n",
    "\n",
    "        # By calling the same method swapping beta and alpha represents the min move\n",
    "        # Pretty cool!\n",
    "        score, _ = min_max_search_move_order(a_board, move_num + 1, -beta,-alpha, depth-1, transposition_keys, transposition_vals, move_order_func)\n",
    "\n",
    "        # And we can just invert the score at the end\n",
    "        # This is because the best move for them is the worst move for us\n",
    "        score = -score\n",
    "\n",
    "        # Check if we have escaped window\n",
    "        if score >= beta:\n",
    "            # We're done, prune the rest\n",
    "            return score, a\n",
    "\n",
    "        # Update alpha always to shrink upperbound\n",
    "        if score > alpha: \n",
    "            alpha = score\n",
    "            move = a\n",
    "    \n",
    "    # Update the lower bound for this state\n",
    "    # We could also update exact and upper bound\n",
    "    # But seems to be less used\n",
    "    key = board.get_transposition_key(move_num)\n",
    "    index = key % TRANSPOSITION_SIZE\n",
    "    transposition_keys[index] = key\n",
    "    transposition_vals[index] = alpha\n",
    "\n",
    "    return alpha, move"
   ]
  },
  {
   "cell_type": "code",
   "execution_count": 15,
   "metadata": {},
   "outputs": [
    {
     "data": {
      "image/png": "[encoded data removed]",
      "text/plain": [
       "<Figure size 432x288 with 1 Axes>"
      ]
     },
     "metadata": {
      "needs_background": "light"
     },
     "output_type": "display_data"
    },
    {
     "data": {
      "text/plain": [
       "DictType[unicode_type,int64]<iv=None>({value: 0, move: 1})"
      ]
     },
     "execution_count": 15,
     "metadata": {},
     "output_type": "execute_result"
    }
   ],
   "source": [
    "board = Bitboard(5,6, player_one_mean=False, player_two_mean=False)\n",
    "\n",
    "classboard = board.bitboards_to_class_board()\n",
    "visualize(classboard)\n",
    "\n",
    "alpha_beta_search_move_order(board, left_to_right)"
   ]
  },
  {
   "cell_type": "code",
   "execution_count": 20,
   "metadata": {},
   "outputs": [
    {
     "data": {
      "image/png": "[encoded data removed]",
      "text/plain": [
       "<Figure size 432x288 with 1 Axes>"
      ]
     },
     "metadata": {
      "needs_background": "light"
     },
     "output_type": "display_data"
    },
    {
     "data": {
      "text/plain": [
       "DictType[unicode_type,int64]<iv=None>({value: 0, move: 5})"
      ]
     },
     "execution_count": 20,
     "metadata": {},
     "output_type": "execute_result"
    }
   ],
   "source": [
    "board = Bitboard(5,6, player_one_mean=False, player_two_mean=False)\n",
    "\n",
    "classboard = board.bitboards_to_class_board()\n",
    "visualize(classboard)\n",
    "\n",
    "alpha_beta_search_move_order(board, right_to_left)"
   ]
  },
  {
   "cell_type": "code",
   "execution_count": 21,
   "metadata": {},
   "outputs": [
    {
     "data": {
      "image/png": "[encoded data removed]",
      "text/plain": [
       "<Figure size 432x288 with 1 Axes>"
      ]
     },
     "metadata": {
      "needs_background": "light"
     },
     "output_type": "display_data"
    },
    {
     "data": {
      "text/plain": [
       "DictType[unicode_type,int64]<iv=None>({value: 0, move: 2})"
      ]
     },
     "execution_count": 21,
     "metadata": {},
     "output_type": "execute_result"
    }
   ],
   "source": [
    "board = Bitboard(5,6, player_one_mean=False, player_two_mean=False)\n",
    "\n",
    "classboard = board.bitboards_to_class_board()\n",
    "visualize(classboard)\n",
    "\n",
    "alpha_beta_search_move_order(board, center_first)"
   ]
  },
  {
   "cell_type": "markdown",
   "metadata": {},
   "source": [
    "| Move Order      | Time for 5x6 board no mean moves |\n",
    "| ----------- | ----------- |\n",
    "| left_to_right      | 8.3s       |\n",
    "| right_to_left   | 6.9s        |\n",
    "| center_first   | 5.8s        |\n"
   ]
  },
  {
   "cell_type": "markdown",
   "metadata": {},
   "source": [
    "As we can see, the center first is by far the fastest. This makes sense since the center moves are generally the best options. "
   ]
  },
  {
   "cell_type": "markdown",
   "metadata": {},
   "source": [
    "### The first few moves\n",
    "\n",
    "Start with an empty board. This is the worst case scenario for minimax search with alpha-beta pruning since it needs solve all possible games that can be played (minus some pruning) before making the decision. What can you do? "
   ]
  },
  {
   "cell_type": "markdown",
   "metadata": {},
   "source": [
    "We will never be able to solve the inital board with minmax with the mean moves turned on. However, we can handicap the first player by not allowing them to use the mean moves which limits the state space. We can also put a depth limit on the search so that we can finish in a set amount of time. I see thats also a requirment for the next section, but I implemented it in this one before reading that haha. I'll talk about it more there"
   ]
  },
  {
   "cell_type": "code",
   "execution_count": 16,
   "metadata": {},
   "outputs": [],
   "source": [
    "@njit()\n",
    "def minmax_agent(board, counter):\n",
    "    action = alpha_beta_search_move_order(board, center_first, counter=counter, depth=5)\n",
    "    move = action['move']\n",
    "    \n",
    "    if move == -1:\n",
    "        random_move = random_agent(board, counter)\n",
    "        return random_move\n",
    "    \n",
    "    return move"
   ]
  },
  {
   "cell_type": "markdown",
   "metadata": {},
   "source": [
    "### Playtime\n",
    "\n",
    "Let the Minimax Search agent play a random agent on a small board. Analyze wins, losses and draws."
   ]
  },
  {
   "cell_type": "code",
   "execution_count": 17,
   "metadata": {},
   "outputs": [
    {
     "data": {
      "text/plain": [
       "{'red': 1000, 'yellow': 0, 'd': 0}"
      ]
     },
     "execution_count": 17,
     "metadata": {},
     "output_type": "execute_result"
    }
   ],
   "source": [
    "play(minmax_agent, random_agent, 1_000, False, True)"
   ]
  },
  {
   "cell_type": "markdown",
   "metadata": {},
   "source": [
    "Woah! Even with a very limited search, we are able to destroy the random agent! This is without our minmax agent even using any mean moves. "
   ]
  },
  {
   "cell_type": "markdown",
   "metadata": {},
   "source": [
    "## Task 4: Heuristic Alpha-Beta Tree Search [3 points] \n",
    "\n",
    "### Heuristic evaluation function\n",
    "\n",
    "Define and implement a heuristic evaluation function."
   ]
  },
  {
   "cell_type": "markdown",
   "metadata": {},
   "source": [
    "For my first heuristic, I add to the score if there is 3 in a row for the player, and subtract from the score if there is 3 in a row for the oponent player."
   ]
  },
  {
   "cell_type": "code",
   "execution_count": 23,
   "metadata": {},
   "outputs": [],
   "source": [
    "@njit()\n",
    "def normal_eval(board, move_num):\n",
    "    if board.is_bitboard_win(move_num & 1):\n",
    "        return 1\n",
    "    \n",
    "    if board.is_bitboard_win(int(not(move_num & 1))):\n",
    "        return -1\n",
    "\n",
    "    if board.is_full():\n",
    "        return 0\n",
    "\n",
    "    return None"
   ]
  },
  {
   "cell_type": "code",
   "execution_count": 24,
   "metadata": {},
   "outputs": [],
   "source": [
    "@njit()\n",
    "def heuristic_eval(board, move_num):\n",
    "    normal = normal_eval(board, move_num)\n",
    "    if normal is not None:\n",
    "        return normal\n",
    "    \n",
    "    if board.is_bitboard_3_in_a_row(move_num & 1):\n",
    "        return .2\n",
    "\n",
    "    if board.is_bitboard_3_in_a_row(int(not(move_num & 1))):\n",
    "        return -.2\n",
    "\n",
    "    return None"
   ]
  },
  {
   "cell_type": "code",
   "execution_count": 37,
   "metadata": {},
   "outputs": [
    {
     "data": {
      "image/png": "[encoded data removed]",
      "text/plain": [
       "<Figure size 432x288 with 1 Axes>"
      ]
     },
     "metadata": {
      "needs_background": "light"
     },
     "output_type": "display_data"
    },
    {
     "name": "stdout",
     "output_type": "stream",
     "text": [
      "True\n"
     ]
    }
   ],
   "source": [
    "# Demo of three in a row code, implemented in the bitboard class so i can use JIT compilation :)\n",
    "board = Bitboard(7, 6)\n",
    "\n",
    "board.make_move(0, 1)\n",
    "board.make_move(1, 2)\n",
    "board.make_move(0, 1)\n",
    "board.make_move(0, 1)\n",
    "\n",
    "visualize(board.bitboards_to_class_board())\n",
    "print(board.is_bitboard_3_in_a_row(0))"
   ]
  },
  {
   "cell_type": "markdown",
   "metadata": {},
   "source": [
    "As another heuristic, I decided to implement the history heuristic. I read a really good paper about how it works in chess engines [here](https://citeseerx.ist.psu.edu/viewdoc/download?doi=10.1.1.589.3958&rep=rep1&type=pdf). It is based on the idea that a specific move may prove to be really good. If thats the case, it would be used as often as possible. I think this will be helpful in our case since the mean moves are probably never very effective."
   ]
  },
  {
   "cell_type": "code",
   "execution_count": 25,
   "metadata": {},
   "outputs": [],
   "source": [
    "@njit()\n",
    "def alpha_beta_search_heuristic(board, eval_func, counter=0, depth=20, use_move_scores=True):\n",
    "    \"\"\"start the search.\"\"\"\n",
    "    transposition_keys = np.zeros(shape=(TRANSPOSITION_SIZE+1),dtype=np.uint64)\n",
    "    transposition_vals = np.zeros(shape=(TRANSPOSITION_SIZE+1),dtype=np.int8)\n",
    "    move_scores = np.zeros(shape=(2, 60), dtype=np.int64)\n",
    "\n",
    "    value, move = min_max_search_heuristic(board, counter, -1, 1, depth, transposition_keys, transposition_vals, move_scores, eval_func, use_move_scores)\n",
    "\n",
    "    return { \"value\": value, \"move\": move }\n",
    "\n",
    "@njit()\n",
    "def min_max_search_heuristic(board, move_num, alpha, beta, depth, transposition_keys, transposition_vals, move_scores, eval_func, use_move_scores):\n",
    "    # Check for terminal state\n",
    "    if board.is_full() or depth == 0:\n",
    "        return 0, -1\n",
    "\n",
    "    # Check if we have already computed this board\n",
    "    key = board.get_transposition_key(move_num)\n",
    "    index = key % TRANSPOSITION_SIZE\n",
    "    val = transposition_vals[index]\n",
    "\n",
    "    if transposition_keys[index] == key:\n",
    "        # We found lowerbound, tighten our search\n",
    "        alpha = max(alpha, val)\n",
    "\n",
    "    move = -1\n",
    "\n",
    "    # Check if any immediate move could lead to terminal state\n",
    "    for a in board.get_actions(move_num):\n",
    "        a_board = board.copy()\n",
    "        a_board.make_move(move_num, a)\n",
    "\n",
    "        # Add heuristic function\n",
    "        terminal = eval_func(a_board, move_num)\n",
    "        if terminal is not None:\n",
    "            if terminal > alpha:\n",
    "                alpha = max(alpha, terminal)\n",
    "                move = a\n",
    "\n",
    "    if alpha >= beta:\n",
    "        # Prune!\n",
    "        return alpha, move\n",
    "            \n",
    "    #Depen the search\n",
    "    actions = np.array(board.get_actions(move_num))\n",
    "    scores = np.array([move_scores[move_num & 1][action] for action in actions])\n",
    "    order = scores.argsort()[::-1]\n",
    "\n",
    "    ordered = actions[order]\n",
    "    if not use_move_scores:\n",
    "        ordered = center_first(board, move_num)\n",
    "\n",
    "    for a in ordered:\n",
    "        a_board = board.copy()\n",
    "        a_board.make_move(move_num, a)\n",
    "\n",
    "        # By calling the same method swapping beta and alpha represents the min move\n",
    "        # Pretty cool!\n",
    "        score, _ = min_max_search_heuristic(a_board, move_num + 1, -beta,-alpha, depth-1, transposition_keys, transposition_vals, move_scores, eval_func, use_move_scores)\n",
    "\n",
    "        # And we can just invert the score at the end\n",
    "        # This is because the best move for them is the worst move for us\n",
    "        score = -score\n",
    "\n",
    "        # Check if we have escaped window\n",
    "        if score >= beta:\n",
    "            # We're done, prune the rest\n",
    "            if use_move_scores:\n",
    "                move_scores[move_num & 1][a] += 2**depth\n",
    "            \n",
    "            return score, a\n",
    "\n",
    "        # Update alpha always to shrink upperbound\n",
    "        if score > alpha:\n",
    "            alpha = score\n",
    "            move = a\n",
    "    \n",
    "    # Update the lower bound for this state\n",
    "    # We could also update exact and upper bound\n",
    "    # But seems to be less used\n",
    "    key = board.get_transposition_key(move_num)\n",
    "    index = key % TRANSPOSITION_SIZE\n",
    "    transposition_keys[index] = key\n",
    "    transposition_vals[index] = alpha\n",
    "\n",
    "    return alpha, move"
   ]
  },
  {
   "cell_type": "markdown",
   "metadata": {},
   "source": [
    "### Profiling dynamic move ordering"
   ]
  },
  {
   "cell_type": "code",
   "execution_count": 16,
   "metadata": {},
   "outputs": [
    {
     "data": {
      "text/plain": [
       "DictType[unicode_type,float64]<iv=None>({value: -0.0, move: 3.0})"
      ]
     },
     "execution_count": 16,
     "metadata": {},
     "output_type": "execute_result"
    }
   ],
   "source": [
    "board = Bitboard(4,6, player_one_mean=False, player_two_mean=True)\n",
    "\n",
    "alpha_beta_search_heuristic(board, heuristic_eval)"
   ]
  },
  {
   "cell_type": "code",
   "execution_count": 17,
   "metadata": {},
   "outputs": [
    {
     "data": {
      "text/plain": [
       "DictType[unicode_type,float64]<iv=None>({value: 0.0, move: 3.0})"
      ]
     },
     "execution_count": 17,
     "metadata": {},
     "output_type": "execute_result"
    }
   ],
   "source": [
    "board = Bitboard(4,6, player_one_mean=False, player_two_mean=True)\n",
    "\n",
    "alpha_beta_search_heuristic(board, heuristic_eval, use_move_scores=False)"
   ]
  },
  {
   "cell_type": "markdown",
   "metadata": {},
   "source": [
    "We can see my history heuristic move ordering cut down the search time by about 4 seconds. Not bad!"
   ]
  },
  {
   "cell_type": "markdown",
   "metadata": {},
   "source": [
    "### Cutting off search \n",
    "\n",
    "Modify your Minimax Search with Alpha-Beta Pruning to cut off search at a specified depth and use the heuristic evaluation function. Experiment with different cutoff values."
   ]
  },
  {
   "cell_type": "code",
   "execution_count": 18,
   "metadata": {},
   "outputs": [],
   "source": [
    "board = Bitboard(7,6, player_one_mean=False, player_two_mean=False)"
   ]
  },
  {
   "cell_type": "code",
   "execution_count": 42,
   "metadata": {},
   "outputs": [
    {
     "data": {
      "text/plain": [
       "DictType[unicode_type,float64]<iv=None>({value: 1.0, move: 4.0})"
      ]
     },
     "execution_count": 42,
     "metadata": {},
     "output_type": "execute_result"
    }
   ],
   "source": [
    "alpha_beta_search_heuristic(board, heuristic_eval, depth=10)"
   ]
  },
  {
   "cell_type": "code",
   "execution_count": 43,
   "metadata": {},
   "outputs": [
    {
     "data": {
      "text/plain": [
       "DictType[unicode_type,float64]<iv=None>({value: 1.0, move: 4.0})"
      ]
     },
     "execution_count": 43,
     "metadata": {},
     "output_type": "execute_result"
    }
   ],
   "source": [
    "alpha_beta_search_heuristic(board, heuristic_eval, depth=20)"
   ]
  },
  {
   "cell_type": "code",
   "execution_count": 44,
   "metadata": {},
   "outputs": [
    {
     "data": {
      "text/plain": [
       "DictType[unicode_type,float64]<iv=None>({value: 1.0, move: 4.0})"
      ]
     },
     "execution_count": 44,
     "metadata": {},
     "output_type": "execute_result"
    }
   ],
   "source": [
    "alpha_beta_search_heuristic(board, heuristic_eval, depth=21)"
   ]
  },
  {
   "cell_type": "markdown",
   "metadata": {},
   "source": [
    "All 3 depths returned the same result in a very quick amount of time. Even cooler is that I checked against the solved connect four, and they all returned the optimal move! Very cool!"
   ]
  },
  {
   "cell_type": "markdown",
   "metadata": {},
   "source": [
    "Experiment with the same manually created boards as above to check if the agent spots winning opportunities."
   ]
  },
  {
   "cell_type": "code",
   "execution_count": 45,
   "metadata": {},
   "outputs": [
    {
     "data": {
      "image/png": "[encoded data removed]",
      "text/plain": [
       "<Figure size 432x288 with 1 Axes>"
      ]
     },
     "metadata": {
      "needs_background": "light"
     },
     "output_type": "display_data"
    },
    {
     "data": {
      "text/plain": [
       "DictType[unicode_type,float64]<iv=None>({value: 1.0, move: 1.0})"
      ]
     },
     "execution_count": 45,
     "metadata": {},
     "output_type": "execute_result"
    }
   ],
   "source": [
    "board = Bitboard(7, 6)\n",
    "\n",
    "board.make_move(0, 1)\n",
    "board.make_move(1, 2)\n",
    "board.make_move(0, 1)\n",
    "board.make_move(1, 2)\n",
    "board.make_move(0, 1)\n",
    "board.make_move(1, 2)\n",
    "\n",
    "classboard = board.bitboards_to_class_board()\n",
    "visualize(classboard)\n",
    "\n",
    "alpha_beta_search_heuristic(board, heuristic_eval)"
   ]
  },
  {
   "cell_type": "code",
   "execution_count": 46,
   "metadata": {},
   "outputs": [
    {
     "data": {
      "image/png": "[encoded data removed]",
      "text/plain": [
       "<Figure size 432x288 with 1 Axes>"
      ]
     },
     "metadata": {
      "needs_background": "light"
     },
     "output_type": "display_data"
    },
    {
     "data": {
      "text/plain": [
       "DictType[unicode_type,float64]<iv=None>({value: 1.0, move: 4.0})"
      ]
     },
     "execution_count": 46,
     "metadata": {},
     "output_type": "execute_result"
    }
   ],
   "source": [
    "board = Bitboard(7, 6)\n",
    "\n",
    "board.make_move(0, 1)\n",
    "board.make_move(1, 1)\n",
    "board.make_move(0, 2)\n",
    "board.make_move(1, 2)\n",
    "board.make_move(0, 3)\n",
    "board.make_move(1, 3)\n",
    "\n",
    "\n",
    "classboard = board.bitboards_to_class_board()\n",
    "visualize(classboard)\n",
    "\n",
    "alpha_beta_search_heuristic(board, heuristic_eval)"
   ]
  },
  {
   "cell_type": "markdown",
   "metadata": {},
   "source": [
    "As we can see, it still recognizes the winning moves like above."
   ]
  },
  {
   "cell_type": "markdown",
   "metadata": {},
   "source": [
    "How long does it take to make a move? Start with a smaller board with 4 columns and make the board larger by adding columns."
   ]
  },
  {
   "cell_type": "code",
   "execution_count": 26,
   "metadata": {},
   "outputs": [
    {
     "data": {
      "image/png": "[encoded data removed]",
      "text/plain": [
       "<Figure size 432x288 with 1 Axes>"
      ]
     },
     "metadata": {
      "needs_background": "light"
     },
     "output_type": "display_data"
    },
    {
     "data": {
      "text/plain": [
       "DictType[unicode_type,float64]<iv=None>({value: 0.0, move: 3.0})"
      ]
     },
     "execution_count": 26,
     "metadata": {},
     "output_type": "execute_result"
    }
   ],
   "source": [
    "board = Bitboard(4,6, player_one_mean=False, player_two_mean=True)\n",
    "\n",
    "classboard = board.bitboards_to_class_board()\n",
    "visualize(classboard)\n",
    "\n",
    "alpha_beta_search_heuristic(board, heuristic_eval)"
   ]
  },
  {
   "cell_type": "code",
   "execution_count": 27,
   "metadata": {},
   "outputs": [
    {
     "data": {
      "image/png": "[encoded data removed]",
      "text/plain": [
       "<Figure size 432x288 with 1 Axes>"
      ]
     },
     "metadata": {
      "needs_background": "light"
     },
     "output_type": "display_data"
    },
    {
     "data": {
      "text/plain": [
       "DictType[unicode_type,float64]<iv=None>({value: 0.0, move: 3.0})"
      ]
     },
     "execution_count": 27,
     "metadata": {},
     "output_type": "execute_result"
    }
   ],
   "source": [
    "board = Bitboard(5,6, player_one_mean=False, player_two_mean=True)\n",
    "\n",
    "classboard = board.bitboards_to_class_board()\n",
    "visualize(classboard)\n",
    "\n",
    "alpha_beta_search_heuristic(board, heuristic_eval)"
   ]
  },
  {
   "cell_type": "code",
   "execution_count": 28,
   "metadata": {},
   "outputs": [
    {
     "data": {
      "image/png": "[encoded data removed]",
      "text/plain": [
       "<Figure size 432x288 with 1 Axes>"
      ]
     },
     "metadata": {
      "needs_background": "light"
     },
     "output_type": "display_data"
    },
    {
     "data": {
      "text/plain": [
       "DictType[unicode_type,float64]<iv=None>({value: 0.0, move: 5.0})"
      ]
     },
     "execution_count": 28,
     "metadata": {},
     "output_type": "execute_result"
    }
   ],
   "source": [
    "board = Bitboard(6,6, player_one_mean=False, player_two_mean=True)\n",
    "\n",
    "classboard = board.bitboards_to_class_board()\n",
    "visualize(classboard)\n",
    "\n",
    "alpha_beta_search_heuristic(board, heuristic_eval)"
   ]
  },
  {
   "cell_type": "code",
   "execution_count": 50,
   "metadata": {},
   "outputs": [
    {
     "data": {
      "image/png": "[encoded data removed]",
      "text/plain": [
       "<Figure size 432x288 with 1 Axes>"
      ]
     },
     "metadata": {
      "needs_background": "light"
     },
     "output_type": "display_data"
    },
    {
     "data": {
      "text/plain": [
       "DictType[unicode_type,float64]<iv=None>({value: -0.0, move: 6.0})"
      ]
     },
     "execution_count": 50,
     "metadata": {},
     "output_type": "execute_result"
    }
   ],
   "source": [
    "board = Bitboard(7,6, player_one_mean=False, player_two_mean=True)\n",
    "\n",
    "classboard = board.bitboards_to_class_board()\n",
    "visualize(classboard)\n",
    "\n",
    "alpha_beta_search_heuristic(board, heuristic_eval)"
   ]
  },
  {
   "cell_type": "markdown",
   "metadata": {},
   "source": [
    "The heuristic makes the search much faster. While the search is not optimal, we can go as big as the full 7x6 board with a 20 depth cutoff. "
   ]
  },
  {
   "cell_type": "markdown",
   "metadata": {},
   "source": [
    "### Playtime\n",
    "\n",
    "Let two heuristic search agents (different cutoff depth, different heuristic evaluation function) compete against each other on a reasonably sized board. Since there is no randomness, you only need to let them play once."
   ]
  },
  {
   "cell_type": "code",
   "execution_count": 29,
   "metadata": {},
   "outputs": [],
   "source": [
    "@njit()\n",
    "def heuristic_eval_agent_1(board, counter):\n",
    "    action = alpha_beta_search_heuristic(board, heuristic_eval, counter=counter, depth=7)\n",
    "    move = action['move']\n",
    "    \n",
    "    if move == -1:\n",
    "        random_move = random_agent(board, counter)\n",
    "        return random_move\n",
    "    \n",
    "    return move"
   ]
  },
  {
   "cell_type": "code",
   "execution_count": 30,
   "metadata": {},
   "outputs": [],
   "source": [
    "@njit()\n",
    "def heuristic_eval_agent_2(board, counter):\n",
    "    action = alpha_beta_search_heuristic(board, heuristic_eval, counter=counter, depth=5, use_move_scores=False)\n",
    "    move = action['move']\n",
    "    \n",
    "    if move == -1:\n",
    "        random_move = random_agent(board, counter)\n",
    "        return random_move\n",
    "    \n",
    "    return np.int64(move)"
   ]
  },
  {
   "cell_type": "code",
   "execution_count": 31,
   "metadata": {},
   "outputs": [
    {
     "data": {
      "text/plain": [
       "{'red': 100, 'yellow': 0, 'd': 0}"
      ]
     },
     "execution_count": 31,
     "metadata": {},
     "output_type": "execute_result"
    }
   ],
   "source": [
    "play(heuristic_eval_agent_1, random_agent, 100, False, True)"
   ]
  },
  {
   "cell_type": "code",
   "execution_count": 32,
   "metadata": {},
   "outputs": [
    {
     "data": {
      "text/plain": [
       "{'red': 95, 'yellow': 5, 'd': 0}"
      ]
     },
     "execution_count": 32,
     "metadata": {},
     "output_type": "execute_result"
    }
   ],
   "source": [
    "play(heuristic_eval_agent_1, random_agent, 100, True, True)"
   ]
  },
  {
   "cell_type": "code",
   "execution_count": 33,
   "metadata": {},
   "outputs": [
    {
     "data": {
      "text/plain": [
       "{'red': 96, 'yellow': 4, 'd': 0}"
      ]
     },
     "execution_count": 33,
     "metadata": {},
     "output_type": "execute_result"
    }
   ],
   "source": [
    "play(heuristic_eval_agent_1, random_agent, 100, True, False)"
   ]
  },
  {
   "cell_type": "markdown",
   "metadata": {},
   "source": [
    "We can see our heuristic agent can handily beat the random agent even without mean moves turned on. It also beats it with random moves turned on."
   ]
  },
  {
   "cell_type": "code",
   "execution_count": 34,
   "metadata": {},
   "outputs": [
    {
     "data": {
      "text/plain": [
       "{'red': 1, 'yellow': 0, 'd': 0}"
      ]
     },
     "execution_count": 34,
     "metadata": {},
     "output_type": "execute_result"
    }
   ],
   "source": [
    "play(heuristic_eval_agent_1, heuristic_eval_agent_2, 1, False, True)"
   ]
  },
  {
   "cell_type": "code",
   "execution_count": 36,
   "metadata": {},
   "outputs": [
    {
     "data": {
      "text/plain": [
       "{'red': 1, 'yellow': 0, 'd': 0}"
      ]
     },
     "execution_count": 36,
     "metadata": {},
     "output_type": "execute_result"
    }
   ],
   "source": [
    "play(heuristic_eval_agent_2, heuristic_eval_agent_1, 1, False, True)"
   ]
  },
  {
   "cell_type": "markdown",
   "metadata": {},
   "source": [
    "Interesting to see that whatever heuristic agent plays first wins against each other. That whos they are pretty similar to each other."
   ]
  },
  {
   "cell_type": "markdown",
   "metadata": {},
   "source": [
    "## Tournament task [+ 1 to 5 bonus point will be assigned separately]\n",
    "\n",
    "Find another student and let your best agent play against the other student's best player. You are allowed to use any improvements you like as long as you code it yourself. We will set up a class tournament on Canvas. This tournament will continue after the submission deadline."
   ]
  },
  {
   "cell_type": "markdown",
   "metadata": {},
   "source": [
    "## Graduate student advanced task: Pure Monte Carlo Search and Best First Move [1 point]\n",
    "\n",
    "__Undergraduate students:__ This is a bonus task you can attempt if you like [+1 Bonus point].\n",
    "\n",
    "### Pure Monte Carlo Search\n",
    "\n",
    "Implement Pure Monte Carlo Search (see [tic-tac-toe-example](https://nbviewer.org/github/mhahsler/CS7320-AI/blob/master/Games/tictactoe_pure_monte_carlo_search.ipynb)) and investigate how this search performs on the test boards that you have used above. "
   ]
  },
  {
   "cell_type": "code",
   "execution_count": 37,
   "metadata": {},
   "outputs": [],
   "source": [
    "@njit()\n",
    "def playout(board, action, counter):\n",
    "    board.make_move(counter, action)\n",
    "    counter += 1\n",
    "    \n",
    "    while(True):\n",
    "        if board.is_bitboard_win(0):\n",
    "            return 1\n",
    "\n",
    "        if board.is_bitboard_win(1):\n",
    "            return -1\n",
    "        \n",
    "        if board.is_full():\n",
    "            return 0\n",
    "\n",
    "        a = np.random.choice(np.array(board.get_actions(counter)))\n",
    "        board.make_move(counter, a)\n",
    "        counter += 1"
   ]
  },
  {
   "cell_type": "code",
   "execution_count": 38,
   "metadata": {},
   "outputs": [
    {
     "name": "stdout",
     "output_type": "stream",
     "text": [
      "mean utility: 0.551\n",
      "win probability: 0.7755\n",
      "loss probability: 0.2245\n",
      "draw probability: 0.0\n"
     ]
    }
   ],
   "source": [
    "@njit(parallel=False)\n",
    "def playouts(board, action, counter = 0, N = 10_000):\n",
    "    \"\"\"Perform N playouts following the given action for the given board.\"\"\"\n",
    "    return np.array([ playout(board.copy(), action, counter) for i in range(N) ])\n",
    "\n",
    "board = Bitboard(6, 7)\n",
    "u = playouts(board,5)\n",
    "#print(\"Playout results:\", u)\n",
    "\n",
    "print(f\"mean utility: {np.mean(u)}\")\n",
    "\n",
    "p_win = sum(np.array(u) == +1)/len(u)\n",
    "p_loss = sum(np.array(u) == -1)/len(u)\n",
    "p_draw = sum(np.array(u) == 0)/len(u)\n",
    "print(f\"win probability: {p_win}\")\n",
    "print(f\"loss probability: {p_loss}\")\n",
    "print(f\"draw probability: {p_draw}\")"
   ]
  },
  {
   "cell_type": "code",
   "execution_count": 39,
   "metadata": {},
   "outputs": [],
   "source": [
    "import math\n",
    "from numba import prange\n",
    "\n",
    "@njit(parallel=False)\n",
    "def pmcs(board, counter, N = 100, debug=False):\n",
    "    actions = board.get_actions(counter)\n",
    "\n",
    "    n = math.floor(N/len(actions))\n",
    "\n",
    "    player = counter & 1\n",
    "\n",
    "    score_mod = 1.0 if player == 0 else -1.0\n",
    "\n",
    "    max_score = -1000.0\n",
    "    max_move = actions[0]\n",
    "\n",
    "    for move in actions:\n",
    "        plays = playouts(board, move, counter, N = n)\n",
    "\n",
    "        score = score_mod*np.mean(plays)\n",
    "\n",
    "        if score > max_score:\n",
    "            max_score = score\n",
    "            max_move = move\n",
    "\n",
    "    return max_move\n",
    "\n",
    "@njit()\n",
    "def pmcs_agent(board, counter):\n",
    "    action = pmcs(board, counter, N=10_000)\n",
    "    return action"
   ]
  },
  {
   "cell_type": "code",
   "execution_count": 40,
   "metadata": {},
   "outputs": [
    {
     "data": {
      "text/plain": [
       "{'red': 10, 'yellow': 0, 'd': 0}"
      ]
     },
     "execution_count": 40,
     "metadata": {},
     "output_type": "execute_result"
    }
   ],
   "source": [
    "play(pmcs_agent, random_agent, N = 10)"
   ]
  },
  {
   "cell_type": "code",
   "execution_count": 42,
   "metadata": {},
   "outputs": [
    {
     "data": {
      "text/plain": [
       "{'red': 0, 'yellow': 20, 'd': 0}"
      ]
     },
     "execution_count": 42,
     "metadata": {},
     "output_type": "execute_result"
    }
   ],
   "source": [
    "play(random_agent, pmcs_agent, N = 20)"
   ]
  },
  {
   "cell_type": "markdown",
   "metadata": {},
   "source": [
    "### Best First Move\n",
    "\n",
    "How would you determine what the best first move for a standard board ($6 \\times 7$) is? You can use Pure Monte Carlo Search or any algorithms that you have implemented above."
   ]
  },
  {
   "cell_type": "code",
   "execution_count": 43,
   "metadata": {},
   "outputs": [
    {
     "name": "stdout",
     "output_type": "stream",
     "text": [
      "The best column is:  7\n"
     ]
    }
   ],
   "source": [
    "board = Bitboard(7, 6)\n",
    "u = pmcs(board, 0, 1_000_000)\n",
    "\n",
    "print(\"The best column is: \", u)"
   ]
  },
  {
   "cell_type": "markdown",
   "metadata": {},
   "source": [
    "According to the above, the last column is the best option when mean moves are turned on for both players."
   ]
  },
  {
   "cell_type": "code",
   "execution_count": 45,
   "metadata": {},
   "outputs": [
    {
     "name": "stdout",
     "output_type": "stream",
     "text": [
      "The best column is:  4\n"
     ]
    }
   ],
   "source": [
    "board = Bitboard(7, 6, player_one_mean=False, player_two_mean=False)\n",
    "u = pmcs(board, 0, 1_000_000)\n",
    "\n",
    "print(\"The best column is: \", u)"
   ]
  },
  {
   "cell_type": "markdown",
   "metadata": {},
   "source": [
    "The above is just for normal connect four, and it (correctly) predicts that the middle column is the best move."
   ]
  },
  {
   "cell_type": "markdown",
   "metadata": {},
   "source": [
    "# Troy's Algorithm"
   ]
  },
  {
   "cell_type": "code",
   "execution_count": 46,
   "metadata": {},
   "outputs": [],
   "source": [
    "@njit()\n",
    "def playout_troy(board, action, counter):\n",
    "    board.make_move(counter, action)\n",
    "    counter += 1\n",
    "    \n",
    "    while(True):\n",
    "        if board.is_bitboard_win(0):\n",
    "            return 1\n",
    "\n",
    "        if board.is_bitboard_win(1):\n",
    "            return -1\n",
    "        \n",
    "        if board.is_full():\n",
    "            return 0\n",
    "\n",
    "        actions = np.array(board.get_actions(counter))\n",
    "        if np.random.rand() < 0.7:\n",
    "            actions = actions[actions < 10]\n",
    "\n",
    "        a = np.random.choice(actions)\n",
    "        board.make_move(counter, a)\n",
    "        counter += 1\n",
    "\n",
    "@njit()\n",
    "def playouts_troy(board, action, counter = 0, N = 10_000):\n",
    "    \"\"\"Perform N playouts following the given action for the given board.\"\"\"\n",
    "    return np.array([ playout_troy(board.copy(), action, counter) for i in range(N) ])\n",
    "\n",
    "@njit()\n",
    "def pmcs_troy(board, counter, N = 100):\n",
    "    actions = board.get_actions(counter)\n",
    "\n",
    "    n = math.floor(N/len(actions))\n",
    "\n",
    "    player = counter & 1\n",
    "\n",
    "    score_mod = 1.0 if player == 0 else -1.0\n",
    "\n",
    "    max_score = -1000.0\n",
    "    max_move = 0\n",
    "\n",
    "    for move in actions:\n",
    "        plays = playouts_troy(board, move, counter, N = n)\n",
    "\n",
    "        score = score_mod*np.mean(plays)\n",
    "\n",
    "        if score > max_score:\n",
    "            max_score = score\n",
    "            max_move = move\n",
    "\n",
    "    return max_score, max_move\n",
    "\n",
    "@njit()\n",
    "def alpha_beta_troy(board, counter=0, depth=1):\n",
    "    \"\"\"start the search.\"\"\"\n",
    "    transposition_keys = np.zeros(shape=(TRANSPOSITION_SIZE+1),dtype=np.uint64)\n",
    "    transposition_vals = np.zeros(shape=(TRANSPOSITION_SIZE+1),dtype=np.int8)\n",
    "\n",
    "    mc_keys = np.zeros(shape=(TRANSPOSITION_SIZE+1),dtype=np.uint64)\n",
    "    mc_vals = np.zeros(shape=(TRANSPOSITION_SIZE+1),dtype=np.int8)\n",
    "\n",
    "    value, move = min_max_search_troy(board, counter, -2, 1, depth, transposition_keys, transposition_vals, mc_keys, mc_vals)\n",
    "\n",
    "    return { \"value\": value, \"move\": move }\n",
    "\n",
    "@njit()\n",
    "def min_max_search_troy(board, move_num, alpha, beta, depth, transposition_keys, transposition_vals, mc_keys, mc_vals):\n",
    "    # Check for terminal state\n",
    "    if board.is_full():\n",
    "        return 0, -1\n",
    "\n",
    "    # Check if we have already computed this board\n",
    "    key = board.get_transposition_key(move_num)\n",
    "    index = key % TRANSPOSITION_SIZE\n",
    "\n",
    "    if depth == 0:\n",
    "        if mc_keys[index] == key:\n",
    "            return mc_vals[index], -1\n",
    "        \n",
    "        # We ran out of room, swap to pmcs\n",
    "        max_mc_score, max_mc_move = pmcs_troy(board, move_num, N=100)\n",
    "        mc_vals[index] = max_mc_score\n",
    "        mc_keys[index] = key\n",
    "        \n",
    "        return max_mc_score, max_mc_move\n",
    "\n",
    "   \n",
    "    val = transposition_vals[index]\n",
    "\n",
    "    if transposition_keys[index] == key:\n",
    "        # We found lowerbound, tighten our search\n",
    "        alpha = max(alpha, val)\n",
    "      \n",
    "    #Deepen the search\n",
    "    move = -1\n",
    "\n",
    "    # Check if any immediate move could lead to terminal state\n",
    "    for a in center_first(board, move_num):\n",
    "        a_board = board.copy()\n",
    "        a_board.make_move(move_num, a)\n",
    "\n",
    "        #if a_board.is_bitboard_win(move_num & 1):\n",
    "        #    return 1, a\n",
    "\n",
    "        #if a_board.is_bitboard_win(int(not(move_num & 1))):\n",
    "        #    return -1, a\n",
    "\n",
    "        # Add heuristic function\n",
    "        terminal = heuristic_eval(a_board, move_num)\n",
    "        if terminal is not None:\n",
    "            if terminal > alpha:\n",
    "                alpha = max(alpha, terminal)\n",
    "                move = a\n",
    "\n",
    "    if alpha >= beta:\n",
    "        # Prune!\n",
    "        return alpha, move\n",
    "\n",
    "    #Depen the search\n",
    "    for a in center_first(board, move_num):\n",
    "        a_board = board.copy()\n",
    "        a_board.make_move(move_num, a)\n",
    "\n",
    "        # By calling the same method swapping beta and alpha represents the min move\n",
    "        # Pretty cool!\n",
    "        score, _ = min_max_search_troy(a_board, move_num + 1, -beta,-alpha, depth-1, transposition_keys, transposition_vals, mc_keys, mc_vals)\n",
    "\n",
    "        # And we can just invert the score at the end\n",
    "        # This is because the best move for them is the worst move for us\n",
    "        score = -score\n",
    "\n",
    "        # Check if we have escaped window\n",
    "        if score >= beta:\n",
    "            # We're done, prune the rest\n",
    "            return score, a\n",
    "\n",
    "        # Update alpha always to shrink upperbound\n",
    "        if score > alpha: \n",
    "            alpha = score\n",
    "            move = a\n",
    "    \n",
    "    # Update the lower bound for this state\n",
    "    # We could also update exact and upper bound\n",
    "    # But seems to be less used\n",
    "    key = board.get_transposition_key(move_num)\n",
    "    index = key % TRANSPOSITION_SIZE\n",
    "    transposition_keys[index] = key\n",
    "    transposition_vals[index] = alpha\n",
    "\n",
    "    return alpha, move\n",
    "\n",
    "def troy_agent(board, counter):\n",
    "    action = alpha_beta_troy(board, counter=counter, depth=4)\n",
    "    move = action['move']\n",
    "    \n",
    "    assert move != -1\n",
    "    return move"
   ]
  },
  {
   "cell_type": "markdown",
   "metadata": {},
   "source": [
    "### Me vs Random"
   ]
  },
  {
   "cell_type": "code",
   "execution_count": 47,
   "metadata": {},
   "outputs": [
    {
     "data": {
      "text/plain": [
       "{'red': 50, 'yellow': 0, 'd': 0}"
      ]
     },
     "execution_count": 47,
     "metadata": {},
     "output_type": "execute_result"
    }
   ],
   "source": [
    "play(troy_agent, random_agent, N = 50)"
   ]
  },
  {
   "cell_type": "code",
   "execution_count": 48,
   "metadata": {},
   "outputs": [
    {
     "data": {
      "text/plain": [
       "{'red': 0, 'yellow': 50, 'd': 0}"
      ]
     },
     "execution_count": 48,
     "metadata": {},
     "output_type": "execute_result"
    }
   ],
   "source": [
    "play(random_agent, troy_agent, N = 50)"
   ]
  },
  {
   "cell_type": "markdown",
   "metadata": {},
   "source": [
    "## Me vs minmax agent"
   ]
  },
  {
   "cell_type": "code",
   "execution_count": 86,
   "metadata": {},
   "outputs": [
    {
     "data": {
      "text/plain": [
       "{'red': 46, 'yellow': 4, 'd': 0}"
      ]
     },
     "execution_count": 86,
     "metadata": {},
     "output_type": "execute_result"
    }
   ],
   "source": [
    "play(troy_agent, minmax_agent, N = 50)"
   ]
  },
  {
   "cell_type": "markdown",
   "metadata": {},
   "source": [
    "## Me vs heuristic - 1"
   ]
  },
  {
   "cell_type": "code",
   "execution_count": 49,
   "metadata": {},
   "outputs": [
    {
     "data": {
      "text/plain": [
       "{'red': 31, 'yellow': 19, 'd': 0}"
      ]
     },
     "execution_count": 49,
     "metadata": {},
     "output_type": "execute_result"
    }
   ],
   "source": [
    "play(troy_agent, heuristic_eval_agent_1, N = 50)"
   ]
  },
  {
   "cell_type": "code",
   "execution_count": 50,
   "metadata": {},
   "outputs": [
    {
     "data": {
      "text/plain": [
       "{'red': 0, 'yellow': 50, 'd': 0}"
      ]
     },
     "execution_count": 50,
     "metadata": {},
     "output_type": "execute_result"
    }
   ],
   "source": [
    "play(heuristic_eval_agent_1, troy_agent, N = 50)"
   ]
  },
  {
   "cell_type": "markdown",
   "metadata": {},
   "source": [
    "## Me vs heuristic - 2"
   ]
  },
  {
   "cell_type": "code",
   "execution_count": 51,
   "metadata": {},
   "outputs": [
    {
     "data": {
      "text/plain": [
       "{'red': 50, 'yellow': 0, 'd': 0}"
      ]
     },
     "execution_count": 51,
     "metadata": {},
     "output_type": "execute_result"
    }
   ],
   "source": [
    "play(troy_agent, heuristic_eval_agent_2, N = 50)"
   ]
  },
  {
   "cell_type": "code",
   "execution_count": 52,
   "metadata": {},
   "outputs": [
    {
     "data": {
      "text/plain": [
       "{'red': 32, 'yellow': 18, 'd': 0}"
      ]
     },
     "execution_count": 52,
     "metadata": {},
     "output_type": "execute_result"
    }
   ],
   "source": [
    "play(heuristic_eval_agent_2, troy_agent, N = 50)"
   ]
  },
  {
   "cell_type": "markdown",
   "metadata": {},
   "source": [
    "## Me vs monte carlo"
   ]
  },
  {
   "cell_type": "code",
   "execution_count": 53,
   "metadata": {},
   "outputs": [
    {
     "data": {
      "text/plain": [
       "{'red': 49, 'yellow': 1, 'd': 0}"
      ]
     },
     "execution_count": 53,
     "metadata": {},
     "output_type": "execute_result"
    }
   ],
   "source": [
    "play(troy_agent, pmcs_agent, N = 50)"
   ]
  },
  {
   "cell_type": "code",
   "execution_count": 54,
   "metadata": {},
   "outputs": [
    {
     "data": {
      "text/plain": [
       "{'red': 13, 'yellow': 37, 'd': 0}"
      ]
     },
     "execution_count": 54,
     "metadata": {},
     "output_type": "execute_result"
    }
   ],
   "source": [
    "play(pmcs_agent, troy_agent, N = 50)"
   ]
  },
  {
   "cell_type": "markdown",
   "metadata": {},
   "source": [
    "Not too bad!"
   ]
  }
 ],
 "metadata": {
  "kernelspec": {
   "display_name": "Python 3 (ipykernel)",
   "language": "python",
   "name": "python3"
  },
  "language_info": {
   "codemirror_mode": {
    "name": "ipython",
    "version": 3
   },
   "file_extension": ".py",
   "mimetype": "text/x-python",
   "name": "python",
   "nbconvert_exporter": "python",
   "pygments_lexer": "ipython3",
   "version": "3.9.7"
  }
 },
 "nbformat": 4,
 "nbformat_minor": 4
}
